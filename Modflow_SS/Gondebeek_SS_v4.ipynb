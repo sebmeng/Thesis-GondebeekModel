{
 "cells": [
  {
   "cell_type": "code",
   "execution_count": 1,
   "metadata": {},
   "outputs": [
    {
     "name": "stderr",
     "output_type": "stream",
     "text": [
      "<frozen importlib._bootstrap>:219: RuntimeWarning: scipy._lib.messagestream.MessageStream size changed, may indicate binary incompatibility. Expected 56 from C header, got 64 from PyObject\n"
     ]
    },
    {
     "name": "stdout",
     "output_type": "stream",
     "text": [
      "Modules imported successfully.\n"
     ]
    }
   ],
   "source": [
    "# Standard library imports\n",
    "import glob\n",
    "import os\n",
    "import shutil\n",
    "import time\n",
    "\n",
    "# Third party imports\n",
    "from matplotlib import colors\n",
    "import matplotlib.pyplot as plt\n",
    "import geopandas as gpd\n",
    "from osgeo import gdal\n",
    "import numpy as np\n",
    "import pandas as pd\n",
    "from scipy import interpolate\n",
    "from scipy.ndimage import generic_filter\n",
    "from scipy.spatial import distance\n",
    "import shapefile as shp\n",
    "from shapely.geometry import Point\n",
    "import vtk\n",
    "import pyvista as pv\n",
    "\n",
    "\n",
    "# Flopy imports\n",
    "import flopy\n",
    "import flopy.utils\n",
    "from flopy.discretization import StructuredGrid\n",
    "from flopy.export import vtk as vtk_export\n",
    "from flopy.export.shapefile_utils import *\n",
    "from flopy.mf6.utils.reference import SpatialReference\n",
    "from flopy.modflow import ModflowNwt, ModflowRch, ModflowStr\n",
    "from flopy.utils import CellBudgetFile, Raster, ZoneBudget, binaryfile as bf\n",
    "from flopy.utils.gridgen import StructuredGrid as StructuredGridGen\n",
    "from flopy.utils.util_array import Util2d\n",
    "\n",
    "print(\"Modules imported successfully.\")"
   ]
  },
  {
   "cell_type": "code",
   "execution_count": 2,
   "metadata": {},
   "outputs": [],
   "source": [
    "# Specify the directory you want to clean up\n",
    "directory = 'C:/Users/sebas/Documents/UGent/Sem 3/Thesis/GondebeekModel/Modflow_SS'\n",
    "\n",
    "# Get a list of all files in the directory\n",
    "all_files = glob.glob(os.path.join(directory, '*'))\n",
    "\n",
    "# Specify the file types you want to keep\n",
    "keep_patterns = ['*.py', '*.ipynb', '*.exe']\n",
    "\n",
    "# Get a list of files to keep\n",
    "keep_files = []\n",
    "for pattern in keep_patterns:\n",
    "    keep_files.extend(glob.glob(os.path.join(directory, pattern)))\n",
    "\n",
    "# Specify the directories to skip\n",
    "skip_directories = ['__pycache__']\n",
    "\n",
    "# Get a list of files to delete\n",
    "delete_files = set(all_files) - set(keep_files)\n",
    "\n",
    "# Delete the files\n",
    "for file in delete_files:\n",
    "    # Skip the file if it's in the directories to skip\n",
    "    if any(skip_dir in file for skip_dir in skip_directories):\n",
    "        continue\n",
    "\n",
    "    if os.path.isfile(file):\n",
    "        os.remove(file)\n",
    "    elif os.path.isdir(file):\n",
    "        shutil.rmtree(file)"
   ]
  },
  {
   "cell_type": "code",
   "execution_count": 3,
   "metadata": {},
   "outputs": [],
   "source": [
    "\n",
    "os.chdir('C:/Users/sebas/Documents/UGent/Sem 3/Thesis/GondebeekModel/Modflow_SS')"
   ]
  },
  {
   "cell_type": "code",
   "execution_count": 4,
   "metadata": {},
   "outputs": [
    {
     "data": {
      "text/plain": [
       "<module 'mod_utils_SS' from 'c:\\\\Users\\\\sebas\\\\Documents\\\\UGent\\\\Sem 3\\\\Thesis\\\\GondebeekModel\\\\Modflow_SS\\\\mod_utils_SS.py'>"
      ]
     },
     "execution_count": 4,
     "metadata": {},
     "output_type": "execute_result"
    }
   ],
   "source": [
    "import mod_utils_SS\n",
    "import importlib\n",
    "importlib.reload(mod_utils_SS)"
   ]
  },
  {
   "cell_type": "code",
   "execution_count": 5,
   "metadata": {},
   "outputs": [],
   "source": [
    "# Geometry\n",
    "geometry_path = \"C:\\\\Users\\\\sebas\\\\Documents\\\\UGent\\\\Sem 3\\\\Thesis\\\\GondebeekModel\\\\Inputs\\\\Marylidia_data\\\\DEM\\\\DEM\"\n",
    "shp_Gondebeek_path = os.path.join(geometry_path,\"Catchment_Gondebeek_v2.shp\")\n",
    "raster_DEM_path= os.path.join(geometry_path,'DEM_Gondebeek.asc')\n",
    "raster_A100t_path = os.path.join(geometry_path,'A0100_t.asc')\n",
    "raster_Paniseliaan_Brusseliaan_Aquifer_path=os.path.join(geometry_path,'A0600_Ledo_Paniseliaan_Brusseliaan_Aquifer.asc')\n",
    "raster_Paniseliaan_Aquitard_path= os.path.join(geometry_path,'A0700_Paniseliaan_Aquitard.asc')    \n",
    "raster_eperiaan_Aquifer_path= os.path.join(geometry_path,'A0800_Leperiaan_Aquifer.asc')    "
   ]
  },
  {
   "cell_type": "code",
   "execution_count": 6,
   "metadata": {},
   "outputs": [],
   "source": [
    "modelname = 'Gondebeek_SS'\n",
    "model_dir = \"C:\\\\Users\\\\sebas\\\\Documents\\\\UGent\\\\Sem 3\\\\Thesis\\\\GondebeekModel\\\\Modflow_SS\""
   ]
  },
  {
   "cell_type": "code",
   "execution_count": 7,
   "metadata": {},
   "outputs": [],
   "source": [
    "# Load shape\n",
    "shp_obj = shp.Reader(shp_Gondebeek_path)\n",
    "\n",
    "# Read shape\n",
    "feature = shp_obj.shapeRecords()[0]\n",
    "\n",
    "# Domain extension\n",
    "bbox = feature.shape.bbox\n",
    "Lx = -(bbox[0]-bbox[2]) #m\n",
    "Ly = -(bbox[1]-bbox[3]) #m\n",
    "\n",
    "# Horizontal discretization\n",
    "delr = 100\n",
    "delc = 100\n",
    "\n",
    "# Number of model rows, and cols\n",
    "nrow = Ly / delr\n",
    "ncol = Lx / delc\n",
    "\n",
    "# Actualizar nrow y ncol\n",
    "nrow = int(np.round(nrow+.5))\n",
    "ncol = int(np.round(ncol+.5))\n",
    "\n",
    "# Actualizar Lx y Ly\n",
    "Ly = nrow*delr\n",
    "Lx = ncol*delc\n",
    "\n",
    "# Origins round to left and up\n",
    "xul = int(bbox[0]//100*100)\n",
    "yul = int((bbox[3])//100*100+100)\n",
    "\n",
    "# Number of layers between guide layers\n",
    "gls_lays = np.array([1,1,1,1])\n",
    "\n",
    "# Total N of layers are calculated\n",
    "nlay = gls_lays.sum()"
   ]
  },
  {
   "cell_type": "code",
   "execution_count": 8,
   "metadata": {},
   "outputs": [],
   "source": [
    "file_list = [raster_DEM_path,raster_A100t_path,raster_Paniseliaan_Brusseliaan_Aquifer_path,raster_Paniseliaan_Aquitard_path,raster_eperiaan_Aquifer_path]\n",
    "\n",
    "interp_elevs = mod_utils_SS.interpolate_to_grid(file_list, xul, yul, nrow, ncol, delr, delc)\n"
   ]
  },
  {
   "cell_type": "code",
   "execution_count": 9,
   "metadata": {},
   "outputs": [
    {
     "data": {
      "text/plain": [
       "5"
      ]
     },
     "execution_count": 9,
     "metadata": {},
     "output_type": "execute_result"
    }
   ],
   "source": [
    "interp_elevs = mod_utils_SS.check_layer_elevs(interp_elevs,1.01)\n",
    "len(gls_lays)\n",
    "len(interp_elevs)"
   ]
  },
  {
   "cell_type": "code",
   "execution_count": 10,
   "metadata": {},
   "outputs": [],
   "source": [
    "botm = np.zeros((nlay,nrow,ncol),dtype=float)\n",
    "botm = mod_utils_SS.fill_botm_array(botm,interp_elevs,gls_lays)\n",
    "topm = mod_utils_SS.fill_topm_array(botm,interp_elevs,gls_lays)"
   ]
  },
  {
   "cell_type": "code",
   "execution_count": 11,
   "metadata": {},
   "outputs": [],
   "source": [
    "# Fecha inicial y final\n",
    "year_0 = 2015; month_0 = 1; day_0 = 1 \n",
    "year_F = 2015; month_F = 1; day_F = 2 \n",
    "\n",
    "SP = mod_utils_SS.Constru_SP(year_0, month_0, day_0, year_F, month_F, day_F,steady_0=True, steady=True, timestep=1, scale='d', n_scale=1)\n",
    "perlen, fecha_inicialSP, fecha_finalSP, nstp, tsmult, steady = SP\n",
    "nper = len(perlen)\n"
   ]
  },
  {
   "cell_type": "code",
   "execution_count": 12,
   "metadata": {},
   "outputs": [
    {
     "data": {
      "text/plain": [
       "array([[-1.e+09, -1.e+09, -1.e+09, ..., -1.e+09, -1.e+09, -1.e+09],\n",
       "       [-1.e+09, -1.e+09, -1.e+09, ..., -1.e+09, -1.e+09, -1.e+09],\n",
       "       [-1.e+09, -1.e+09, -1.e+09, ..., -1.e+09, -1.e+09, -1.e+09],\n",
       "       ...,\n",
       "       [-1.e+09, -1.e+09, -1.e+09, ..., -1.e+09, -1.e+09, -1.e+09],\n",
       "       [-1.e+09, -1.e+09, -1.e+09, ..., -1.e+09, -1.e+09, -1.e+09],\n",
       "       [-1.e+09, -1.e+09, -1.e+09, ..., -1.e+09, -1.e+09, -1.e+09]])"
      ]
     },
     "execution_count": 12,
     "metadata": {},
     "output_type": "execute_result"
    }
   ],
   "source": [
    "top=topm[0]\n",
    "top"
   ]
  },
  {
   "cell_type": "code",
   "execution_count": 13,
   "metadata": {},
   "outputs": [
    {
     "name": "stderr",
     "output_type": "stream",
     "text": [
      "c:\\Users\\sebas\\anaconda3\\envs\\BastianMod\\lib\\site-packages\\flopy\\mbase.py:659: UserWarning: Unit 14 of package OC already in use.\n",
      "  warn(\n",
      "c:\\Users\\sebas\\anaconda3\\envs\\BastianMod\\lib\\site-packages\\flopy\\mbase.py:668: UserWarning: Two packages of the same type, Replacing existing 'OC' package.\n",
      "  warn(\n"
     ]
    }
   ],
   "source": [
    "mf2005_exe = os.path.join('MODFLOW-NWT.exe')  # Path to MODFLOW-2005 NWT executable\n",
    "#noflow = mod_utils.active_cell(sim,shp_obj)\n",
    "sim = flopy.modflow.Modflow(modelname=modelname, model_ws=model_dir,\n",
    "                          version='mf2005', exe_name=mf2005_exe,\n",
    "                          structured=True)\n",
    "                          \n",
    "                          \n",
    "dis = flopy.modflow.ModflowDis(sim, nlay=nlay, nrow=nrow, ncol=ncol, delr=delr,\n",
    "                               delc=delc, top=interp_elevs[0], botm=botm,\n",
    "                              xul=xul, yul=yul, nper=nper,steady=steady,\n",
    "                               perlen=perlen,nstp=nstp,tsmult=tsmult)\n",
    "\n",
    "lpf = flopy.modflow.ModflowLpf(sim, ipakcb=50, hk=500, laytyp=4, layvka=1, laywet=1, wetdry=-0.01, iwetit=100, ihdwet=1)\n",
    "# Write BAS package\n",
    "# Convert the Util3d object to a numpy array\n",
    "\n",
    "noflow = mod_utils_SS.active_cell(sim,shp_obj)\n",
    "# Create a mask where botm and top are not NaN\n",
    "mask = np.logical_and(~np.isnan(botm), ~np.isnan(top))\n",
    "\n",
    "# Create an IBOUND array based on the mask\n",
    "ibound = np.where(mask, 1, 0)\n",
    "\n",
    "# Use this IBOUND array to create the ModflowBas object\n",
    "bas = flopy.modflow.ModflowBas(sim, strt=interp_elevs[0], ibound=noflow)\n",
    "botm_array = dis.botm.array\n",
    "\n",
    "nstress = sim.dis.nper\n",
    "\n",
    "# Get the number of time steps for each stress period\n",
    "num_time_steps = sim.dis.nstp.array\n",
    "\n",
    "\n",
    "\n",
    "# Define the OC stress period data\n",
    "oc_spd = {(i, sim.dis.nstp.array[i] - 1): ['save head', 'save budget'] \n",
    "          for i in range(sim.dis.nper)}\n",
    "\n",
    "# Create the OC package\n",
    "oc = flopy.modflow.ModflowOc(sim, stress_period_data=oc_spd, compact=True)\n",
    "oc.iuhead = 51  # Assign a unit number to the head file\n",
    "\n",
    "# Write the OC package\n",
    "oc.write_file()\n",
    "sim.write_input()\n",
    "\n",
    "# Create the OC package\n",
    "oc = flopy.modflow.ModflowOc(sim, stress_period_data=oc_spd, compact=True)\n",
    "oc.iuhead = 51  # Assign a unit number to the head file\n",
    "\n",
    "# Write the OC package\n",
    "oc.write_file()\n",
    "sim.write_input()\n",
    "\n",
    "# Change  -1e9 to zero\n",
    "botm_array[botm_array <= -1.000000E+09] = 0\n",
    "\n",
    "# Convert the numpy array back to a Util3d object\n",
    "dis.botm = flopy.utils.Util3d(sim, botm_array.shape, np.float32, botm_array, name='botm', locat=dis.unit_number[0])\n",
    "# Write the modified DIS package back to the model\n",
    "\n",
    "# Convert the Util2d object to a numpy array\n",
    "top_array = dis.top.array\n",
    "\n",
    "# Change -1e9 top elevations to zero\n",
    "top_array[top_array <=-1.000000E+09] = 0\n",
    "\n",
    "# Convert the numpy array back to a Util2d object\n",
    "dis.top = flopy.utils.Util2d(sim, top_array.shape, np.float32, top_array, name='top', locat=dis.unit_number[0])\n",
    "\n",
    "bas.write_file()\n"
   ]
  },
  {
   "cell_type": "code",
   "execution_count": 14,
   "metadata": {},
   "outputs": [
    {
     "name": "stdout",
     "output_type": "stream",
     "text": [
      "Index(['node', 'row', 'column', 'icellpe_1_', 'icellpe_2_', 'icellpe_3_',\n",
      "       'icellpe_4_', 'icellpe_5_', 'k_1', 'k_2', 'k_3', 'k_4', 'k_5', 'k33_1',\n",
      "       'k33_2', 'k33_3', 'k33_4', 'k33_5', 'geometry'],\n",
      "      dtype='object')\n",
      "Index(['node', 'row', 'column', 'iconvert_1', 'iconvert_2', 'iconvert_3',\n",
      "       'iconvert_4', 'iconvert_5', 'ss_1', 'ss_2', 'ss_3', 'ss_4', 'ss_5',\n",
      "       'sy_1', 'sy_2', 'sy_3', 'sy_4', 'sy_5', 'geometry'],\n",
      "      dtype='object')\n"
     ]
    }
   ],
   "source": [
    "# Load the shapefile for K and s:\n",
    "k_path = r\"C:\\Users\\sebas\\Documents\\UGent\\Sem 3\\Thesis\\GondebeekModel\\Inputs\\Marylidia_data\\DEM\\DEM\\provincie_k_clipped.shp\"\n",
    "s_path = r\"C:\\Users\\sebas\\Documents\\UGent\\Sem 3\\Thesis\\GondebeekModel\\Inputs\\Marylidia_data\\DEM\\DEM\\provincie_s_clipped.shp\"\n",
    "k = gpd.read_file(k_path)\n",
    "s = gpd.read_file(s_path)\n",
    "# Print the attributes of the shapefile\n",
    "print(k.columns)\n",
    "print(s.columns)"
   ]
  },
  {
   "cell_type": "code",
   "execution_count": 15,
   "metadata": {},
   "outputs": [],
   "source": [
    "#set hydraulic properties:\n",
    "mod_utils_SS.set_hydraulic_properties(sim, k, s, bbox, delr, delc, ['k_1', 'k_2', 'k_3', 'k_3'], \n",
    "                                   ['k33_1', 'k33_2', 'k33_3', 'k33_3'],['sy_1', 'sy_2', 'sy_3', 'sy_3'], ['ss_1', 'ss_2', 'ss_3', 'ss_3'] )\n",
    "#write lpf package \n",
    "\n",
    "sim.lpf.write_file()"
   ]
  },
  {
   "cell_type": "code",
   "execution_count": 16,
   "metadata": {},
   "outputs": [
    {
     "name": "stdout",
     "output_type": "stream",
     "text": [
      "\n",
      "LPF PACKAGE DATA VALIDATION:\n",
      "  No errors or warnings encountered.\n",
      "\n",
      "  Checks that passed:\n",
      "    zero or negative horizontal hydraulic conductivity values\n",
      "    negative horizontal anisotropy values\n",
      "    vertical hydraulic conductivity values below checker threshold of 1e-11\n",
      "    vertical hydraulic conductivity values above checker threshold of 100000.0\n",
      "    horizontal hydraulic conductivity values below checker threshold of 1e-11\n",
      "    horizontal hydraulic conductivity values above checker threshold of 100000.0\n",
      "\n"
     ]
    },
    {
     "data": {
      "text/plain": [
       "<flopy.utils.check.check at 0x2362ad59cd0>"
      ]
     },
     "execution_count": 16,
     "metadata": {},
     "output_type": "execute_result"
    }
   ],
   "source": [
    "sim.lpf.check()"
   ]
  },
  {
   "cell_type": "markdown",
   "metadata": {},
   "source": [
    "Get the initial heads from pseudo_SS"
   ]
  },
  {
   "cell_type": "code",
   "execution_count": 17,
   "metadata": {},
   "outputs": [],
   "source": [
    "# import flopy.utils.binaryfile as bf\n",
    "# import flopy.modflow as mf\n",
    "\n",
    "# # Load the head data from the first model\n",
    "# headobj = bf.HeadFile('C:\\\\Users\\\\sebas\\\\Documents\\\\UGent\\\\Sem 3\\\\Thesis\\\\GondebeekModel\\\\Modflow\\\\Gondebeek.hds')\n",
    "# head = headobj.get_data()\n",
    "\n",
    "# # Extract the head data from the last stress period\n",
    "# last_sp_heads = head[-1]\n",
    "\n",
    "# # Load the second model\n",
    "# model = mf.Modflow.load('Gondebeek_SS.nam')  # Replace 'Gondebeek_SS.nam' with the path to your name file\n",
    "\n",
    "# # Remove the existing BAS package\n",
    "# model.remove_package('BAS6')\n",
    "\n",
    "# # Create a new BAS package with the updated initial heads\n",
    "# bas = mf.ModflowBas(model, strt=last_sp_heads)\n",
    "\n",
    "# # Write the updated model to a new set of files\n",
    "# model.write_input()"
   ]
  },
  {
   "cell_type": "code",
   "execution_count": 18,
   "metadata": {},
   "outputs": [
    {
     "data": {
      "image/png": "[encoded data removed]",
      "text/plain": [
       "<Figure size 864x864 with 2 Axes>"
      ]
     },
     "metadata": {
      "needs_background": "light"
     },
     "output_type": "display_data"
    },
    {
     "name": "stdout",
     "output_type": "stream",
     "text": [
      "177000.0\n"
     ]
    },
    {
     "name": "stderr",
     "output_type": "stream",
     "text": [
      "c:\\Users\\sebas\\anaconda3\\envs\\BastianMod\\lib\\site-packages\\flopy\\mbase.py:97: UserWarning: The program mf2005 does not exist or is not executable.\n",
      "  warn(\n"
     ]
    }
   ],
   "source": [
    "# Get the top layer of the model\n",
    "top_layer = sim.dis.top.array\n",
    "\n",
    "# Define the minimum and maximum values for the colorbar\n",
    "vmin, vmax = 0, top_layer.max()\n",
    "\n",
    "# Create a figure\n",
    "fig = plt.figure(figsize=(12, 12))\n",
    "ax = fig.add_subplot(1, 1, 1, aspect=\"equal\")\n",
    "\n",
    "# Create a map of the model\n",
    "modelmap = flopy.plot.PlotMapView(model=sim)\n",
    "\n",
    "# Plot the top layer of the model\n",
    "quadmesh = modelmap.plot_array(top_layer, vmin=vmin, vmax=vmax)\n",
    "\n",
    "# Plot the grid and inactive cells\n",
    "#linecollection = modelmap.plot_grid()\n",
    "#quadmesh = modelmap.plot_ibound(ibound=noflow, color_noflow='cyan')\n",
    "\n",
    "# Add a colorbar with a label\n",
    "cbar = plt.colorbar(quadmesh, shrink=0.7)\n",
    "cbar.set_label('Elevation (m)')\n",
    "\n",
    "# Add labels to the x and y axes\n",
    "plt.xlabel('X Coordinate (m)')\n",
    "plt.ylabel('Y Coordinate (m)')\n",
    "\n",
    "# Add a title\n",
    "plt.title(\"Gondebeek GW model\")\n",
    "\n",
    "# Save the plot as a PNG file\n",
    "plt.savefig('Gondebeek_GW_model.png')\n",
    "\n",
    "# Show the plot\n",
    "plt.show()\n",
    "\n",
    "# Load the MODFLOW-2005 model\n",
    "ml = flopy.modflow.Modflow.load('Gondebeek_SS.nam')\n",
    "\n",
    "# Get the lower-left y-coordinate\n",
    "yll = ml.modelgrid.yoffset\n",
    "print(yll)\n"
   ]
  },
  {
   "cell_type": "markdown",
   "metadata": {},
   "source": [
    "Recharge"
   ]
  },
  {
   "cell_type": "code",
   "execution_count": 19,
   "metadata": {},
   "outputs": [],
   "source": [
    "#now an average recharge data is added for all Sp's this must be changed in the future\n",
    "\n",
    "# Calculate the daily recharge rate in meters per day\n",
    "recharge_rate = 0.0019902180502591182 / 3   # Convert from mm/day to m/day (and the third part only is infiltrated)\n",
    "\n",
    "# Create a 2D array with the recharge rate\n",
    "\n",
    "recharge_array = [[recharge_rate for _ in range(ncol)] for _ in range(nrow)]\n",
    "\n",
    "# Create a dictionary with the recharge rate for each stress period\n",
    "nper = sim.dis.nper\n",
    "recharge = {kper: recharge_array for kper in range(nper)}\n",
    "\n",
    "# Create the recharge package\n",
    "rch = flopy.modflow.ModflowRch(sim, rech=recharge,ipakcb=50)\n",
    "\n",
    "# Write the package\n",
    "rch.write_file()\n"
   ]
  },
  {
   "cell_type": "code",
   "execution_count": 20,
   "metadata": {},
   "outputs": [],
   "source": [
    "#First: Clip river shapefile (WLas):\n",
    "\n",
    "river_path = \"C:\\\\Users\\\\sebas\\\\Documents\\\\UGent\\\\Sem 3\\\\Thesis\\\\GondebeekModel\\\\Inputs\\\\Streams\\\\Shapefile\"\n",
    "shp_river = os.path.join(river_path,\"Wlas.shp\")\n",
    "\n",
    "\n",
    "# Load your polygon and line shapefiles\n",
    "polygon = gpd.read_file(shp_Gondebeek_path)\n",
    "line = gpd.read_file(shp_river)\n",
    "\n",
    "# Reproject the line GeoDataFrame to match the CRS of the polygon GeoDataFrame\n",
    "line = line.to_crs(polygon.crs)\n",
    "\n",
    "# Perform the clip operation\n",
    "clipped = gpd.clip(line, polygon)\n",
    "\n",
    "shp_river_clipped = os.path.join(river_path,\"Wlas_clipped.shp\")\n",
    "# Save the clipped part to a new shapefile\n",
    "clipped.to_file(shp_river_clipped)"
   ]
  },
  {
   "cell_type": "code",
   "execution_count": 21,
   "metadata": {},
   "outputs": [
    {
     "name": "stdout",
     "output_type": "stream",
     "text": [
      "\n",
      "STR PACKAGE DATA VALIDATION:\n",
      "  No errors or warnings encountered.\n",
      "\n",
      "  Checks that passed:\n",
      "    BC indices valid\n",
      "    not a number (Nan) entries\n",
      "    BC in inactive cells\n",
      "\n"
     ]
    },
    {
     "data": {
      "text/plain": [
       "<flopy.utils.check.check at 0x2362a804a30>"
      ]
     },
     "execution_count": 21,
     "metadata": {},
     "output_type": "execute_result"
    }
   ],
   "source": [
    "from rtree import index\n",
    "import geopandas as gpd\n",
    "from shapely.geometry import Polygon\n",
    "\n",
    "# Get the top elevation array and active cell data from your model\n",
    "top_elev = sim.dis.top.array\n",
    "ibound = sim.bas6.ibound.array  # get the array of active cells\n",
    "\n",
    "clipped = gpd.read_file(shp_river_clipped)\n",
    "layer = 0  # layer number (only layer 1)\n",
    "# Create a spatial index\n",
    "idx = index.Index()\n",
    "\n",
    "# Populate spatial index with bounding boxes of active cells\n",
    "for row in range(sim.modelgrid.nrow):\n",
    "    for col in range(sim.modelgrid.ncol):\n",
    "        if ibound[layer, row, col] > 0:\n",
    "            x_center = sim.modelgrid.xcellcenters[row, col]\n",
    "            y_center = sim.modelgrid.ycellcenters[row, col]\n",
    "            dx = sim.modelgrid.delc[row] / 2\n",
    "            dy = sim.modelgrid.delr[col] / 2\n",
    "            bounds = (x_center - dx, y_center - dy, x_center + dx, y_center + dy)\n",
    "            idx.insert((row * sim.modelgrid.ncol) + col, bounds)\n",
    "\n",
    "            \n",
    "\n",
    "# Initialize the segment and reach numbers\n",
    "segment = 1\n",
    "reach = 1\n",
    "flow = 1\n",
    "\n",
    "\n",
    "# Convert the shapefile to a list of [layer, row, column, segment, reach, flow, strhc1, strtop, slope, strthick, width, rough] for each reach\n",
    "stream_data = []\n",
    "processed_cells = set()  # Set to keep track of processed cells\n",
    "\n",
    "for index, data in clipped.iterrows():\n",
    "    # Get the vertices of the LineString\n",
    "    vertices = list(data['geometry'].coords)\n",
    "    \n",
    "    for i in range(len(vertices) - 1):\n",
    "        # Calculate the minimum and maximum x and y coordinates\n",
    "        minx = min(vertices[i][0], vertices[i+1][0])\n",
    "        miny = min(vertices[i][1], vertices[i+1][1])\n",
    "        maxx = max(vertices[i][0], vertices[i+1][0])\n",
    "        maxy = max(vertices[i][1], vertices[i+1][1])\n",
    "        \n",
    "        # Get intersecting cells using spatial index\n",
    "        coordinates = (minx, miny, maxx, maxy)\n",
    "        intersecting_cells = list(idx.intersection(coordinates))\n",
    "\n",
    "        if not intersecting_cells:\n",
    "            continue\n",
    "        \n",
    "        # Process only the intersecting active cells\n",
    "        for cell_index in intersecting_cells:\n",
    "            row = cell_index // sim.modelgrid.ncol\n",
    "            col = cell_index % sim.modelgrid.ncol\n",
    "            \n",
    "            # Skip the specific cells\n",
    "            if (row, col) in [(1, 52), (6, 58)]:\n",
    "                continue\n",
    "            \n",
    "            # Skip if the cell has already been processed\n",
    "            if (row, col) in processed_cells:\n",
    "                continue\n",
    "            \n",
    "            layer = 0  # layer number (only layer 1)\n",
    "            # Check if the cell is within the active domain\n",
    "            if ibound[layer, row, col] > 0:\n",
    "                # Calculate the reach length as the distance between the centers of the cells\n",
    "                next_row, next_col = sim.modelgrid.intersect(vertices[i+1][0], vertices[i+1][1])\n",
    "                # Check if the next cell is within the active domain\n",
    "                if ibound[layer, next_row, next_col] > 0:\n",
    "                    rchlen = ((sim.modelgrid.xcellcenters[row, col] - sim.modelgrid.xcellcenters[next_row, next_col])**2 + \n",
    "                              (sim.modelgrid.ycellcenters[row, col] - sim.modelgrid.ycellcenters[next_row, next_col])**2)**0.5\n",
    "                    strtop = top_elev[row, col]  # streambed top (top elevation of the cell)\n",
    "                    # Calculate the change in elevation\n",
    "                    delta_elev = top_elev[row, col] - top_elev[next_row, next_col]\n",
    "                    # Calculate the slope\n",
    "                    slope = abs(delta_elev / rchlen)\n",
    "                    if np.isnan(slope):\n",
    "                        slope = 0.0148\n",
    "                    strthick = 1.0  # streambed thickness\n",
    "                    strhc1 = 50.0  # streambed conductance\n",
    "                    stage = 1.0  # initial stream stage\n",
    "                    width = 1.0  # stream width\n",
    "                    rough = 0.035  # roughness coefficient\n",
    "                    stream_data.append([layer, row, col, segment, reach, flow, strhc1, stage, strtop, slope, strthick, width, rough])\n",
    "                    reach += 1  # increment the reach number\n",
    "                    processed_cells.add((row, col))  # Add the cell to the set of processed cells\n",
    "\n",
    "    segment += 1  # increment the segment number\n",
    "    reach = 1  # reset the reach number for the next segment\n",
    "\n",
    "# Get the number of stress periods\n",
    "nstress = sim.dis.nper\n",
    "\n",
    "# Define the stream reach data for the first stress period\n",
    "stress_period_data = {0: stream_data}\n",
    "\n",
    "# Replicate the first stress period data for all stress periods\n",
    "for i in range(1, nstress):\n",
    "    stress_period_data[i] = stress_period_data[0]\n",
    "\n",
    "# Define some default segment data\n",
    "segment_data = {i: [[1]*11 for _ in range(len(stream_data))] for i in range(nstress)}\n",
    "\n",
    "# Create the STR package\n",
    "str = flopy.modflow.ModflowStr(sim, mxacts=len(stream_data), nss=len(stream_data), stress_period_data=stress_period_data, segment_data=segment_data, istcb2=0, ipakcb=50, options=['FLOW'])\n",
    "\n",
    "# Write the package\n",
    "str.write_file()\n",
    "sim.write_input()\n",
    "\n",
    "str.check()"
   ]
  },
  {
   "cell_type": "code",
   "execution_count": 22,
   "metadata": {},
   "outputs": [
    {
     "data": {
      "text/plain": [
       "[0, 111, 50, 1, 1, 1, 50.0, 1.0, 56.19, 0.0148, 1.0, 1.0, 0.035]"
      ]
     },
     "execution_count": 22,
     "metadata": {},
     "output_type": "execute_result"
    }
   ],
   "source": [
    "stress_period_data[0][0]"
   ]
  },
  {
   "cell_type": "code",
   "execution_count": 23,
   "metadata": {},
   "outputs": [],
   "source": [
    "# # Load the daily evaporation data\n",
    "# et_dir = \"C:\\\\Users\\\\sebas\\\\Documents\\\\UGent\\\\Sem 3\\\\Thesis\\\\GondebeekModel\\\\Inputs\\\\ET\"\n",
    "# csv_et_daily = os.path.join(et_dir, 'et_daily.csv')\n",
    "# df_et_daily = pd.read_csv(csv_et_daily, delimiter=',')\n",
    "\n",
    "# # Get the ET , and only 20% s real ET\n",
    "# evtr = 0.00163906717512467 * 0.2\n",
    "\n",
    "# # Create the EVT package\n",
    "# evt = flopy.modflow.ModflowEvt(sim, nevtop=1, evtr=evtr, ipakcb=50)\n",
    "# # Add the EVT package to the MODFLOW model\n",
    "# sim.add_package(evt)\n",
    "\n",
    "# evt.write_file()\n",
    "# sim.write_input()"
   ]
  },
  {
   "cell_type": "code",
   "execution_count": 24,
   "metadata": {},
   "outputs": [
    {
     "name": "stderr",
     "output_type": "stream",
     "text": [
      "c:\\Users\\sebas\\anaconda3\\envs\\BastianMod\\lib\\site-packages\\flopy\\mbase.py:97: UserWarning: The program mf2005 does not exist or is not executable.\n",
      "  warn(\n",
      "c:\\Users\\sebas\\anaconda3\\envs\\BastianMod\\lib\\site-packages\\flopy\\mbase.py:659: UserWarning: Unit 31 of package UPW already in use.\n",
      "  warn(\n",
      "c:\\Users\\sebas\\anaconda3\\envs\\BastianMod\\lib\\site-packages\\flopy\\mbase.py:668: UserWarning: Two packages of the same type, Replacing existing 'UPW' package.\n",
      "  warn(\n"
     ]
    }
   ],
   "source": [
    "# Load the model\n",
    "sim = flopy.modflow.Modflow.load('Gondebeek_SS.nam')\n",
    "\n",
    "# Change the version to 'mfnwt'\n",
    "sim.version = 'mfnwt'\n",
    "\n",
    "# Check if the PCG package exists before trying to remove it\n",
    "if 'PCG' in sim.get_package_list():\n",
    "    sim.remove_package('PCG')\n",
    "\n",
    "# Check if the NWT package exists before trying to remove it\n",
    "if 'NWT' in sim.get_package_list():\n",
    "    sim.remove_package('NWT')\n",
    "\n",
    "# Check if the LPF package exists before trying to remove it\n",
    "if 'LPF' in sim.get_package_list():\n",
    "    lpf = sim.get_package('LPF')\n",
    "else:\n",
    "    # Try to load the LPF package from a file\n",
    "    lpf_file = 'Gondebeek.lpf'\n",
    "    if os.path.exists(lpf_file):\n",
    "        lpf = flopy.modflow.ModflowLpf.load(lpf_file, sim)\n",
    "    else:\n",
    "        print(\"LPF package does not exist in the model or in the file. Cannot create UPW package.\")\n",
    "        lpf = None\n",
    "\n",
    "if lpf is not None and hasattr(lpf, 'hk'):\n",
    "    sim.remove_package('LPF')\n",
    "    # Create a new UPW package with the same parameters as the LPF package\n",
    "    upw = flopy.modflow.ModflowUpw(sim, hk=lpf.hk.array, \n",
    "                                   vka=lpf.vka.array, \n",
    "                                   sy=lpf.sy.array, \n",
    "                                   ss=lpf.ss.array, \n",
    "                                   laytyp=lpf.laytyp.array,\n",
    "                                   ipakcb=50)\n",
    "    # Add the new UPW package to the model\n",
    "    sim.add_package(upw)\n",
    "else:\n",
    "    print(\"LPF package does not have 'hk' attribute. Cannot create UPW package.\")\n",
    "sim.write_input()"
   ]
  },
  {
   "cell_type": "code",
   "execution_count": 25,
   "metadata": {},
   "outputs": [],
   "source": [
    "# # Load the model\n",
    "# model = mf.Modflow.load('Gondebeek_SS.nam')  # Replace 'Gondebeek_SS.nam' with the path to your name file\n",
    "\n",
    "# # Get the UPW package\n",
    "# upw = model.get_package('UPW')\n",
    "\n",
    "# # Multiply the hydraulic conductivity arrays by 10\n",
    "# hk = upw.hk.array * 100\n",
    "# vka = upw.vka.array * 10\n",
    "\n",
    "# # Remove the existing UPW package\n",
    "# model.remove_package('UPW')\n",
    "\n",
    "# # Create a new UPW package with the updated hydraulic conductivity values\n",
    "# upw = mf.ModflowUpw(model, hk=hk, vka=vka)\n",
    "\n",
    "# # Write the updated model to a new set of files\n",
    "# model.write_input()"
   ]
  },
  {
   "cell_type": "code",
   "execution_count": 26,
   "metadata": {},
   "outputs": [
    {
     "name": "stderr",
     "output_type": "stream",
     "text": [
      "c:\\Users\\sebas\\anaconda3\\envs\\BastianMod\\lib\\site-packages\\flopy\\mbase.py:659: UserWarning: Unit 32 of package NWT already in use.\n",
      "  warn(\n",
      "c:\\Users\\sebas\\anaconda3\\envs\\BastianMod\\lib\\site-packages\\flopy\\mbase.py:668: UserWarning: Two packages of the same type, Replacing existing 'NWT' package.\n",
      "  warn(\n"
     ]
    },
    {
     "name": "stdout",
     "output_type": "stream",
     "text": [
      "\n",
      "Gondebeek_SS MODEL DATA VALIDATION SUMMARY:\n",
      "  1 Warning:\n",
      "    OC package: action(s) defined in OC stress_period_data ignored as they are not part the stress periods defined by DIS\n",
      "\n",
      "  Checks that passed:\n",
      "    Unit number conflicts\n",
      "    Compatible solver package\n",
      "    DIS package: zero or negative thickness\n",
      "    DIS package: thin cells (less than checker threshold of 1.0)\n",
      "    DIS package: nan values in top array\n",
      "    DIS package: nan values in bottom array\n",
      "    BAS6 package: isolated cells in ibound array\n",
      "    BAS6 package: Not a number\n",
      "    RCH package: Mean R/T is between 2e-08 and 0.0002\n",
      "    RCH package: Variable NRCHOP set to 3.\n",
      "    STR package: BC indices valid\n",
      "    STR package: not a number (Nan) entries\n",
      "    STR package: BC in inactive cells\n",
      "    UPW package: zero or negative horizontal hydraulic conductivity values\n",
      "    UPW package: zero or negative vertical hydraulic conductivity values\n",
      "    UPW package: negative horizontal anisotropy values\n",
      "    UPW package: horizontal hydraulic conductivity values below checker threshold of 1e-11\n",
      "    UPW package: horizontal hydraulic conductivity values above checker threshold of 100000.0\n",
      "    UPW package: vertical hydraulic conductivity values below checker threshold of 1e-11\n",
      "    UPW package: vertical hydraulic conductivity values above checker threshold of 100000.0\n",
      "\n"
     ]
    },
    {
     "data": {
      "text/plain": [
       "<flopy.utils.check.check at 0x2362ae5a670>"
      ]
     },
     "execution_count": 26,
     "metadata": {},
     "output_type": "execute_result"
    }
   ],
   "source": [
    "\n",
    "# Check if the NWT package exists before trying to remove it\n",
    "if 'NWT' in sim.get_package_list():\n",
    "    sim.remove_package('NWT')\n",
    "# Create a new NWT solver with custom parameters\n",
    "nwt = flopy.modflow.ModflowNwt(sim, \n",
    "                               headtol=0.01, \n",
    "                               fluxtol=500, \n",
    "                               maxiterout=1000, \n",
    "                               thickfact=1e-5, \n",
    "                               linmeth=2, \n",
    "                               iprnwt=1, \n",
    "                               ibotav=1, \n",
    "                               dbdtheta=0.4, \n",
    "                               dbdkappa=0.2, \n",
    "                               dbdgamma=0.5, \n",
    "                               momfact=0.05, \n",
    "                               backflag=1, \n",
    "                               maxbackiter=400, \n",
    "                               backtol=1.01, \n",
    "                               backreduce=0.7, \n",
    "                               iacl=2, \n",
    "                               norder=2, \n",
    "                               level=5, \n",
    "                               north=2, \n",
    "                               iredsys=1, \n",
    "                               rrctols=0.0, \n",
    "                               idroptol=1, \n",
    "                               epsrn=1e-4, \n",
    "                               hclosexmd=1e-4, \n",
    "                               mxiterxmd=50,\n",
    "                               Continue=False,\n",
    "                               options='SPECIFIED')\n",
    "\n",
    "# Add the new NWT package to the model\n",
    "sim.add_package(nwt)\n",
    "\n",
    "# Set the path to the MODFLOW-NWT executable\n",
    "sim.exe_name = 'MODFLOW-NWT.exe'\n",
    "\n",
    "# Write the entire model to disk\n",
    "sim.write_input()\n",
    "sim.check()"
   ]
  },
  {
   "cell_type": "code",
   "execution_count": 27,
   "metadata": {},
   "outputs": [
    {
     "name": "stdout",
     "output_type": "stream",
     "text": [
      "FloPy is using the following executable to run the model: MODFLOW-NWT.exe\n",
      "\n",
      "                                  MODFLOW-NWT-SWR1 \n",
      "    U.S. GEOLOGICAL SURVEY MODULAR FINITE-DIFFERENCE GROUNDWATER-FLOW MODEL\n",
      "                             WITH NEWTON FORMULATION\n",
      "                             Version 1.0.9 07/01/2014                        \n",
      "                    BASED ON MODFLOW-2005 Version 1.11.0 08/08/2013                       \n",
      "\n",
      "                    SWR1 Version 1.03.0 08/30/2013                       \n",
      "\n",
      " Using NAME file: Gondebeek_SS.nam \n",
      " Run start date and time (yyyy/mm/dd hh:mm:ss): 2024/03/03 15:26:00\n",
      "\n",
      " Solving:  Stress period:     1    Time step:     1    Groundwater-Flow Eqn.\n",
      " Run end date and time (yyyy/mm/dd hh:mm:ss): 2024/03/03 15:26:02\n",
      " Elapsed run time:  1.815 Seconds\n",
      "\n",
      "  Normal termination of simulation\n"
     ]
    },
    {
     "data": {
      "text/plain": [
       "(True, [])"
      ]
     },
     "execution_count": 27,
     "metadata": {},
     "output_type": "execute_result"
    }
   ],
   "source": [
    "# Run the model\n",
    "sim.run_model()"
   ]
  },
  {
   "cell_type": "markdown",
   "metadata": {},
   "source": [
    "Check heads before running"
   ]
  },
  {
   "cell_type": "code",
   "execution_count": null,
   "metadata": {},
   "outputs": [],
   "source": []
  },
  {
   "cell_type": "markdown",
   "metadata": {},
   "source": [
    "Check heads after running"
   ]
  },
  {
   "cell_type": "code",
   "execution_count": 28,
   "metadata": {},
   "outputs": [
    {
     "data": {
      "image/png": "[encoded data removed]",
      "text/plain": [
       "<Figure size 720x720 with 2 Axes>"
      ]
     },
     "metadata": {
      "needs_background": "light"
     },
     "output_type": "display_data"
    }
   ],
   "source": [
    "\n",
    "# Load the head data\n",
    "hds = flopy.utils.HeadFile('Gondebeek_SS.hds')\n",
    "\n",
    "# Get all times and stress periods/time steps\n",
    "times = hds.get_times()\n",
    "kstpkper = hds.get_kstpkper()\n",
    "\n",
    "# Get the last time and stress period/time step\n",
    "last_time = times[-1]\n",
    "last_kstpkper = kstpkper[-1]\n",
    "\n",
    "# Get the head for the last stress period and time step\n",
    "head = hds.get_data(totim=last_time)\n",
    "\n",
    "# Mask values lower than -900\n",
    "head = np.ma.masked_where(head < -900, head)\n",
    "\n",
    "# Plot the head for layer 1\n",
    "plt.figure(figsize=(10, 10))\n",
    "plt.imshow(head[1, :, :], cmap='viridis', interpolation='none')\n",
    "plt.colorbar(label='Head (m)')\n",
    "plt.title('Head for Layer 1 in the Last Stress Period')\n",
    "plt.show()"
   ]
  },
  {
   "cell_type": "code",
   "execution_count": 29,
   "metadata": {},
   "outputs": [
    {
     "data": {
      "image/png": "[encoded data removed]",
      "text/plain": [
       "<Figure size 720x720 with 2 Axes>"
      ]
     },
     "metadata": {
      "needs_background": "light"
     },
     "output_type": "display_data"
    }
   ],
   "source": [
    "# Load the model\n",
    "model = flopy.modflow.Modflow.load('Gondebeek_SS.nam')  # replace 'Gondebeek_SS.nam' with your model name\n",
    "\n",
    "# Get the top elevation of the cells\n",
    "top = model.dis.top.array\n",
    "\n",
    "# Calculate the difference between the head and the top elevation\n",
    "diff = head[1, :, :] - top\n",
    "\n",
    "# Create a mask for the flooded cells (where the difference is positive)\n",
    "flooded = np.ma.masked_where(diff <= 0, diff)\n",
    "\n",
    "# Create a mask for the non-flooded cells (where the difference is zero or negative)\n",
    "non_flooded = np.ma.masked_where(diff > 0, diff)\n",
    "\n",
    "# Plot the non-flooded cells in blue and the flooded cells in red\n",
    "plt.figure(figsize=(10, 10))\n",
    "plt.imshow(non_flooded, cmap='Blues', interpolation='none')\n",
    "plt.imshow(flooded, cmap='Reds', interpolation='none')\n",
    "plt.colorbar(label='Head - Top Elevation (m)')\n",
    "plt.title('Flooded and Non-Flooded Cells for Layer 1 in the Last Stress Period')\n",
    "plt.show()"
   ]
  },
  {
   "cell_type": "code",
   "execution_count": 30,
   "metadata": {},
   "outputs": [
    {
     "name": "stdout",
     "output_type": "stream",
     "text": [
      "File exists\n",
      " totim                name       ZONE_1\n",
      "   1.0  FROM_CONSTANT_HEAD     0.000000\n",
      "   1.0       FROM_RECHARGE 28844.887000\n",
      "   1.0 FROM_STREAM_LEAKAGE     0.000000\n",
      "   1.0         FROM_ZONE_1     0.000000\n",
      "   1.0            TOTAL_IN 28844.887000\n",
      "   1.0    TO_CONSTANT_HEAD     0.000000\n",
      "   1.0         TO_RECHARGE     0.000000\n",
      "   1.0   TO_STREAM_LEAKAGE 28852.727000\n",
      "   1.0           TO_ZONE_1     0.000000\n",
      "   1.0           TOTAL_OUT 28852.727000\n",
      "   1.0              IN-OUT     7.839844\n",
      "   1.0 PERCENT_DISCREPANCY     0.027176\n"
     ]
    }
   ],
   "source": [
    "# Load the model\n",
    "modelname = 'Gondebeek_SS'  # replace with your model name if different\n",
    "sim = flopy.modflow.Modflow.load(modelname, model_ws='.', exe_name='MODFLOW-NWT.exe')\n",
    "\n",
    "# Get the ibound array from the bas package of the model\n",
    "ibound = sim.bas6.ibound.array\n",
    "\n",
    "# Create the zone array from the ibound array\n",
    "zon = np.where(ibound == 0, 1, ibound)\n",
    "\n",
    "# Get the cell-by-cell budget file name from the model\n",
    "cbc_file = \"Gondebeek_SS.cbc\"\n",
    "\n",
    "# Check if the file exists\n",
    "if os.path.exists(cbc_file):\n",
    "    print(\"File exists\")\n",
    "else:\n",
    "    print(\"File does not exist\")\n",
    "\n",
    "# Create a CellBudgetFile object\n",
    "cbc = CellBudgetFile(cbc_file)\n",
    "\n",
    "# Get the kstpkper from the cell budget file\n",
    "kstpkper = cbc.get_kstpkper()\n",
    "\n",
    "# Check if kstpkper is not empty\n",
    "if kstpkper:\n",
    "    # Initialize an empty list to store the budget DataFrames\n",
    "    dfs = []\n",
    "\n",
    "    # Loop over all kstpkper values\n",
    "    for kstp, kper in kstpkper:\n",
    "        # Create a ZoneBudget object for the current time step and stress period\n",
    "        zb = ZoneBudget(cbc_file, zon, kstpkper=(kstp, kper))\n",
    "\n",
    "        # Convert the budget to a DataFrame and add it to the list\n",
    "        dfs.append(zb.get_dataframes())\n",
    "\n",
    "    # Concatenate all budget DataFrames\n",
    "    budget_df = pd.concat(dfs)\n",
    "\n",
    "    # Save the budget to a CSV file\n",
    "    f_out = f\"{modelname}_output.csv\"\n",
    "    budget_df.to_csv(f_out)\n",
    "\n",
    "    # Print the contents of the CSV file for the last time step and stress period\n",
    "    print(pd.read_csv(f_out).to_string(index=False))\n",
    "else:\n",
    "    print(\"kstpkper is empty\")"
   ]
  },
  {
   "cell_type": "code",
   "execution_count": 31,
   "metadata": {},
   "outputs": [
    {
     "data": {
      "image/png": "[encoded data removed]",
      "text/plain": [
       "<Figure size 720x360 with 1 Axes>"
      ]
     },
     "metadata": {
      "needs_background": "light"
     },
     "output_type": "display_data"
    },
    {
     "data": {
      "text/plain": [
       "Text(0, 0.5, 'Percent Discrepancy')"
      ]
     },
     "execution_count": 31,
     "metadata": {},
     "output_type": "execute_result"
    },
    {
     "data": {
      "image/png": "[encoded data removed]",
      "text/plain": [
       "<Figure size 720x360 with 1 Axes>"
      ]
     },
     "metadata": {
      "needs_background": "light"
     },
     "output_type": "display_data"
    }
   ],
   "source": [
    "# Load the budget data from the CSV file\n",
    "budget_df = pd.read_csv(f_out)\n",
    "\n",
    "# Pivot the DataFrame so that each component becomes a column\n",
    "pivot_df = budget_df.pivot(index='totim', columns='name', values='ZONE_1')\n",
    "\n",
    "# Multiply the values of the components that have \"TO_\" in their name by -1\n",
    "pivot_df = pivot_df.apply(lambda x: -x if x.name.startswith('TO_') else x)\n",
    "\n",
    "# Convert the flow values from cubic meters per day to liters per second, excluding the percent discrepancy\n",
    "for component in pivot_df.columns:\n",
    "    if component != 'PERCENT_DISCREPANCY':\n",
    "        pivot_df[component] = pivot_df[component] / 86.4\n",
    "\n",
    "# Remove the components that are \"0.000000\" for all of the time steps, except the percent discrepancy\n",
    "pivot_df = pivot_df.drop([col for col in pivot_df.columns if (pivot_df[col].abs().sum() == 0 and col != 'PERCENT_DISCREPANCY')], axis=1)\n",
    "\n",
    "# Plot each component of the balances, excluding the \"percent discrepancy\"\n",
    "plt.figure(figsize=(10, 5))\n",
    "for component in pivot_df.columns:\n",
    "    if component != 'PERCENT_DISCREPANCY':\n",
    "        if len(pivot_df.index) == 1:\n",
    "            plt.scatter(pivot_df.index, pivot_df[component], label=component)\n",
    "        else:\n",
    "            plt.plot(pivot_df.index, pivot_df[component], label=component)\n",
    "\n",
    "# Add a legend\n",
    "plt.legend()\n",
    "\n",
    "# Add labels\n",
    "plt.xlabel('totim')\n",
    "plt.ylabel('Balance (L/s)')  # Update the y-axis label\n",
    "\n",
    "# Show the plot\n",
    "plt.show()\n",
    "\n",
    "# Plot the \"percent discrepancy\" separately\n",
    "plt.figure(figsize=(10, 5))\n",
    "if len(pivot_df.index) == 1:\n",
    "    plt.scatter(pivot_df.index, pivot_df['PERCENT_DISCREPANCY'], label='PERCENT_DISCREPANCY')\n",
    "else:\n",
    "    plt.plot(pivot_df.index, pivot_df['PERCENT_DISCREPANCY'], label='PERCENT_DISCREPANCY')\n",
    "\n",
    "# Add a legend\n",
    "plt.legend()\n",
    "\n",
    "# Add labels\n",
    "plt.xlabel('totim')\n",
    "plt.ylabel('Percent Discrepancy')\n",
    "\n",
    "# Show the plot\n",
    "# plt.show()"
   ]
  },
  {
   "cell_type": "code",
   "execution_count": 32,
   "metadata": {},
   "outputs": [],
   "source": [
    "# Load the model\n",
    "modelname = 'Gondebeek_SS'  # replace with your model name if different\n",
    "sim = flopy.modflow.Modflow.load(modelname, model_ws='.', exe_name='MODFLOW-NWT.exe')\n",
    "\n",
    "# Get the modelgrid from the model\n",
    "modelgrid = sim.modelgrid\n",
    "\n",
    "# Create a vtk object\n",
    "vtkobj = flopy.export.vtk.Vtk(sim, modelgrid=modelgrid, vertical_exageration=10,binary=False)\n",
    "\n",
    "# Flatten the entire 3D array of bottom elevations\n",
    "botm_flattened = sim.dis.botm.array.flatten()\n",
    "\n",
    "# Add the flattened array to the VTK object\n",
    "vtkobj.add_array(botm_flattened, \"botm\")\n",
    "\n",
    "# Calculate the top elevations\n",
    "botm = sim.dis.botm.array\n",
    "top = np.empty_like(botm)\n",
    "top[0] = sim.dis.top.array\n",
    "top[1:] = botm[:-1]\n",
    "\n",
    "# Flatten the entire 3D array of top elevations\n",
    "top_flattened = top.flatten()\n",
    "\n",
    "# Add the flattened array to the VTK object\n",
    "vtkobj.add_array(top_flattened, \"top\")\n",
    "\n",
    "# Flatten the entire 3D array of hydraulic conductivity\n",
    "hk_flattened = sim.upw.hk.array.flatten()\n",
    "\n",
    "# Add the flattened array to the VTK object\n",
    "vtkobj.add_array(hk_flattened, \"hk\")\n",
    "\n",
    "# Flatten the entire 3D array of specific storage\n",
    "ss_flattened = sim.upw.ss.array.flatten()\n",
    "\n",
    "# Add the flattened array to the VTK object\n",
    "vtkobj.add_array(ss_flattened, \"ss\")\n",
    "\n",
    "# Flatten the entire 3D array of specific yield\n",
    "sy_flattened = sim.upw.sy.array.flatten()\n",
    "\n",
    "# Add the flattened array to the VTK object\n",
    "vtkobj.add_array(sy_flattened, \"sy\")\n",
    "\n",
    "# Flatten the entire 3D array of ibound\n",
    "ibound_flattened = sim.bas6.ibound.array.flatten()\n",
    "\n",
    "# Add the flattened array to the VTK object\n",
    "vtkobj.add_array(ibound_flattened, \"ibound\")\n",
    "\n",
    "# Write the VTK object to a file\n",
    "vtkobj.write(\"model_SS.vtk\")\n",
    "\n"
   ]
  },
  {
   "cell_type": "code",
   "execution_count": 33,
   "metadata": {},
   "outputs": [
    {
     "name": "stderr",
     "output_type": "stream",
     "text": [
      "c:\\Users\\sebas\\anaconda3\\envs\\BastianMod\\lib\\site-packages\\trame\\ui\\__init__.py:1: DeprecationWarning: Deprecated call to `pkg_resources.declare_namespace('trame.ui')`.\n",
      "Implementing implicit namespace packages (as specified in PEP 420) is preferred to `pkg_resources.declare_namespace`. See https://setuptools.pypa.io/en/latest/references/keywords.html#keyword-namespace-packages\n",
      "  __import__(\"pkg_resources\").declare_namespace(__name__)\n",
      "c:\\Users\\sebas\\anaconda3\\envs\\BastianMod\\lib\\site-packages\\pkg_resources\\__init__.py:2350: DeprecationWarning: Deprecated call to `pkg_resources.declare_namespace('trame')`.\n",
      "Implementing implicit namespace packages (as specified in PEP 420) is preferred to `pkg_resources.declare_namespace`. See https://setuptools.pypa.io/en/latest/references/keywords.html#keyword-namespace-packages\n",
      "  declare_namespace(parent)\n"
     ]
    },
    {
     "name": "stdout",
     "output_type": "stream",
     "text": [
      "UnstructuredGrid (0x23689e00d00)\n",
      "  N Cells:    17392\n",
      "  N Points:   139136\n",
      "  X Bounds:   1.051e+05, 1.117e+05\n",
      "  Y Bounds:   1.770e+05, 1.885e+05\n",
      "  Z Bounds:   -2.823e+02, 7.836e+02\n",
      "  N Arrays:   6\n"
     ]
    },
    {
     "data": {
      "application/vnd.jupyter.widget-view+json": {
       "model_id": "318fc39d2909427a8e18b0bac8074bde",
       "version_major": 2,
       "version_minor": 0
      },
      "text/plain": [
       "Widget(value='<iframe src=\"http://localhost:50131/index.html?ui=P_0x23689d28c40_0&reconnect=auto\" class=\"pyvis…"
      ]
     },
     "metadata": {},
     "output_type": "display_data"
    }
   ],
   "source": [
    "# Set the backend for PyVista\n",
    "pv.set_jupyter_backend('trame')\n",
    "\n",
    "# Convert the VTK object to a PyVista mesh\n",
    "mesh = vtkobj.to_pyvista()\n",
    "\n",
    "# Apply a threshold filter to keep only cells where ibound equals 1\n",
    "thresholded_mesh = mesh.threshold(0.5, scalars=\"ibound\")\n",
    "\n",
    "# List all available point data\n",
    "print(thresholded_mesh)\n",
    "\n",
    "# Plot the thresholded mesh with a specific property\n",
    "# Replace 'property_name' with the name of the property you want to visualize\n",
    "thresholded_mesh.plot(scalars='hk', cpos=[mesh.points[0], mesh.points[1], (0, 0, 0)], show_edges=False)\n",
    "\n",
    "# Save the thresholded mesh to a VTK file\n",
    "thresholded_mesh.save(\"Gondebeek_SS_act.vtk\")"
   ]
  },
  {
   "cell_type": "code",
   "execution_count": 34,
   "metadata": {},
   "outputs": [
    {
     "data": {
      "text/html": [
       "<table style='width: 100%;'><tr><th>Header</th><th>Data Arrays</th></tr><tr><td>\n",
       "<table style='width: 100%;'>\n",
       "<tr><th>UnstructuredGrid</th><th>Information</th></tr>\n",
       "<tr><td>N Cells</td><td>30624</td></tr>\n",
       "<tr><td>N Points</td><td>244992</td></tr>\n",
       "<tr><td>X Bounds</td><td>1.051e+05, 1.117e+05</td></tr>\n",
       "<tr><td>Y Bounds</td><td>1.770e+05, 1.886e+05</td></tr>\n",
       "<tr><td>Z Bounds</td><td>-2.823e+02, 7.836e+02</td></tr>\n",
       "<tr><td>N Arrays</td><td>6</td></tr>\n",
       "</table>\n",
       "\n",
       "</td><td>\n",
       "<table style='width: 100%;'>\n",
       "<tr><th>Name</th><th>Field</th><th>Type</th><th>N Comp</th><th>Min</th><th>Max</th></tr>\n",
       "<tr><td>botm</td><td>Cells</td><td>float32</td><td>1</td><td>-2.823e+01</td><td>1.000e+30</td></tr>\n",
       "<tr><td>top</td><td>Cells</td><td>float32</td><td>1</td><td>-6.990e+00</td><td>1.000e+30</td></tr>\n",
       "<tr><td>hk</td><td>Cells</td><td>float32</td><td>1</td><td>1.000e-01</td><td>1.000e+30</td></tr>\n",
       "<tr><td>ss</td><td>Cells</td><td>float32</td><td>1</td><td>0.000e+00</td><td>1.000e+30</td></tr>\n",
       "<tr><td>sy</td><td>Cells</td><td>float32</td><td>1</td><td>0.000e+00</td><td>1.000e+30</td></tr>\n",
       "<tr><td>ibound</td><td>Cells</td><td>int32</td><td>1</td><td>0.000e+00</td><td>1.000e+00</td></tr>\n",
       "</table>\n",
       "\n",
       "</td></tr> </table>"
      ],
      "text/plain": [
       "UnstructuredGrid (0x23689dfab20)\n",
       "  N Cells:    30624\n",
       "  N Points:   244992\n",
       "  X Bounds:   1.051e+05, 1.117e+05\n",
       "  Y Bounds:   1.770e+05, 1.886e+05\n",
       "  Z Bounds:   -2.823e+02, 7.836e+02\n",
       "  N Arrays:   6"
      ]
     },
     "execution_count": 34,
     "metadata": {},
     "output_type": "execute_result"
    }
   ],
   "source": [
    "mesh"
   ]
  },
  {
   "cell_type": "code",
   "execution_count": 35,
   "metadata": {},
   "outputs": [
    {
     "data": {
      "application/vnd.jupyter.widget-view+json": {
       "model_id": "fcd6449d48c544f8930b6252a211d8c4",
       "version_major": 2,
       "version_minor": 0
      },
      "text/plain": [
       "Widget(value='<iframe src=\"http://localhost:50131/index.html?ui=P_0x2368a237d90_1&reconnect=auto\" class=\"pyvis…"
      ]
     },
     "metadata": {},
     "output_type": "display_data"
    }
   ],
   "source": [
    "botm=sim.dis.botm.array\n",
    "mesh[\"botm\"] = np.ravel(botm)\n",
    "mesh.plot(cpos=[mesh.points[0], mesh.points[1], (0, 0, 0)], scalars=\"botm\", show_edges=False)"
   ]
  }
 ],
 "metadata": {
  "kernelspec": {
   "display_name": "BastianMod",
   "language": "python",
   "name": "python3"
  },
  "language_info": {
   "codemirror_mode": {
    "name": "ipython",
    "version": 3
   },
   "file_extension": ".py",
   "mimetype": "text/x-python",
   "name": "python",
   "nbconvert_exporter": "python",
   "pygments_lexer": "ipython3",
   "version": "3.8.8"
  }
 },
 "nbformat": 4,
 "nbformat_minor": 2
}
