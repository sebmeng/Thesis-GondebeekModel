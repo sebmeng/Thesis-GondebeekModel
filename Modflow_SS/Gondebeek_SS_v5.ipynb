{
 "cells": [
  {
   "cell_type": "code",
   "execution_count": 1,
   "metadata": {},
   "outputs": [
    {
     "name": "stderr",
     "output_type": "stream",
     "text": [
      "<frozen importlib._bootstrap>:219: RuntimeWarning: scipy._lib.messagestream.MessageStream size changed, may indicate binary incompatibility. Expected 56 from C header, got 64 from PyObject\n"
     ]
    },
    {
     "name": "stdout",
     "output_type": "stream",
     "text": [
      "Modules imported successfully.\n"
     ]
    }
   ],
   "source": [
    "# Standard library imports\n",
    "import glob\n",
    "import os\n",
    "import shutil\n",
    "import time\n",
    "\n",
    "# Third party imports\n",
    "from matplotlib import colors\n",
    "import matplotlib.pyplot as plt\n",
    "import geopandas as gpd\n",
    "from osgeo import gdal\n",
    "import numpy as np\n",
    "import pandas as pd\n",
    "from scipy import interpolate\n",
    "from scipy.ndimage import generic_filter\n",
    "from scipy.spatial import distance\n",
    "import shapefile as shp\n",
    "from shapely.geometry import Point\n",
    "import vtk\n",
    "import pyvista as pv\n",
    "\n",
    "\n",
    "# Flopy imports\n",
    "import flopy\n",
    "import flopy.utils\n",
    "from flopy.discretization import StructuredGrid\n",
    "from flopy.export import vtk as vtk_export\n",
    "from flopy.export.shapefile_utils import *\n",
    "from flopy.mf6.utils.reference import SpatialReference\n",
    "from flopy.modflow import ModflowNwt, ModflowRch, ModflowStr\n",
    "from flopy.utils import CellBudgetFile, Raster, ZoneBudget, binaryfile as bf\n",
    "from flopy.utils.gridgen import StructuredGrid as StructuredGridGen\n",
    "from flopy.utils.util_array import Util2d\n",
    "from flopy.mf6.modflow.mfgwfrcha import ModflowGwfrcha\n",
    "from flopy.mf6.modflow.mfgwfsfr import ModflowGwfsfr\n",
    "from flopy.mf6.modflow.mfgwfriv import ModflowGwfriv\n",
    "from flopy.utils import ZoneBudget6, CellBudgetFile\n",
    "\n",
    "\n",
    "print(\"Modules imported successfully.\")"
   ]
  },
  {
   "cell_type": "code",
   "execution_count": 2,
   "metadata": {},
   "outputs": [],
   "source": [
    "# Specify the directory you want to clean up\n",
    "directory = 'C:/Users/sebas/Documents/UGent/Sem 3/Thesis/GondebeekModel/Modflow_SS'\n",
    "\n",
    "# Get a list of all files in the directory\n",
    "all_files = glob.glob(os.path.join(directory, '*'))\n",
    "\n",
    "# Specify the file types you want to keep\n",
    "keep_patterns = ['*.py', '*.ipynb', '*.exe']\n",
    "\n",
    "# Get a list of files to keep\n",
    "keep_files = []\n",
    "for pattern in keep_patterns:\n",
    "    keep_files.extend(glob.glob(os.path.join(directory, pattern)))\n",
    "\n",
    "# Specify the directories to skip\n",
    "skip_directories = ['__pycache__']\n",
    "\n",
    "# Get a list of files to delete\n",
    "delete_files = set(all_files) - set(keep_files)\n",
    "\n",
    "# Delete the files\n",
    "for file in delete_files:\n",
    "    # Skip the file if it's in the directories to skip\n",
    "    if any(skip_dir in file for skip_dir in skip_directories):\n",
    "        continue\n",
    "\n",
    "    if os.path.isfile(file):\n",
    "        os.remove(file)\n",
    "    elif os.path.isdir(file):\n",
    "        shutil.rmtree(file)"
   ]
  },
  {
   "cell_type": "code",
   "execution_count": 3,
   "metadata": {},
   "outputs": [],
   "source": [
    "\n",
    "os.chdir('C:/Users/sebas/Documents/UGent/Sem 3/Thesis/GondebeekModel/Modflow_SS')"
   ]
  },
  {
   "cell_type": "code",
   "execution_count": 4,
   "metadata": {},
   "outputs": [
    {
     "data": {
      "text/plain": [
       "<module 'mod_utils_SS' from 'c:\\\\Users\\\\sebas\\\\Documents\\\\UGent\\\\Sem 3\\\\Thesis\\\\GondebeekModel\\\\Modflow_SS\\\\mod_utils_SS.py'>"
      ]
     },
     "execution_count": 4,
     "metadata": {},
     "output_type": "execute_result"
    }
   ],
   "source": [
    "import mod_utils_SS\n",
    "import importlib\n",
    "importlib.reload(mod_utils_SS)"
   ]
  },
  {
   "cell_type": "code",
   "execution_count": 5,
   "metadata": {},
   "outputs": [],
   "source": [
    "# Geometry\n",
    "geometry_path = \"C:\\\\Users\\\\sebas\\\\Documents\\\\UGent\\\\Sem 3\\\\Thesis\\\\GondebeekModel\\\\Inputs\\\\Marylidia_data\\\\DEM\\\\DEM\"\n",
    "shp_Gondebeek_path = os.path.join(geometry_path,\"Catchment_Gondebeek_v2.shp\")\n",
    "raster_DEM_path= os.path.join(geometry_path,'DEM_Gondebeek.asc')\n",
    "raster_A100t_path = os.path.join(geometry_path,'A0100_t.asc')\n",
    "raster_Paniseliaan_Brusseliaan_Aquifer_path=os.path.join(geometry_path,'A0600_Ledo_Paniseliaan_Brusseliaan_Aquifer.asc')\n",
    "raster_Paniseliaan_Aquitard_path= os.path.join(geometry_path,'A0700_Paniseliaan_Aquitard.asc')    \n",
    "raster_eperiaan_Aquifer_path= os.path.join(geometry_path,'A0800_Leperiaan_Aquifer.asc')    "
   ]
  },
  {
   "cell_type": "code",
   "execution_count": 6,
   "metadata": {},
   "outputs": [],
   "source": [
    "modelname = 'Gondebeek_SS'\n",
    "model_dir = \"C:\\\\Users\\\\sebas\\\\Documents\\\\UGent\\\\Sem 3\\\\Thesis\\\\GondebeekModel\\\\Modflow_SS\""
   ]
  },
  {
   "cell_type": "code",
   "execution_count": 7,
   "metadata": {},
   "outputs": [],
   "source": [
    "# Load shape\n",
    "shp_obj = shp.Reader(shp_Gondebeek_path)\n",
    "\n",
    "# Read shape\n",
    "feature = shp_obj.shapeRecords()[0]\n",
    "\n",
    "# Domain extension\n",
    "bbox = feature.shape.bbox\n",
    "Lx = -(bbox[0]-bbox[2]) #m\n",
    "Ly = -(bbox[1]-bbox[3]) #m\n",
    "\n",
    "# Horizontal discretization\n",
    "delr = 100\n",
    "delc = 100\n",
    "\n",
    "# Number of model rows, and cols\n",
    "nrow = Ly / delr\n",
    "ncol = Lx / delc\n",
    "\n",
    "# Actualizar nrow y ncol\n",
    "nrow = int(np.round(nrow+.5))\n",
    "ncol = int(np.round(ncol+.5))\n",
    "\n",
    "# Actualizar Lx y Ly\n",
    "Ly = nrow*delr\n",
    "Lx = ncol*delc\n",
    "\n",
    "# Origins round to left and up\n",
    "xul = int(bbox[0]//100*100)\n",
    "yul = int((bbox[3])//100*100+100)\n",
    "\n",
    "# Number of layers between guide layers\n",
    "gls_lays = np.array([1,1,1,1])\n",
    "\n",
    "# Total N of layers are calculated\n",
    "nlay = gls_lays.sum()"
   ]
  },
  {
   "cell_type": "code",
   "execution_count": 8,
   "metadata": {},
   "outputs": [],
   "source": [
    "file_list = [raster_DEM_path,raster_A100t_path,raster_Paniseliaan_Brusseliaan_Aquifer_path,raster_Paniseliaan_Aquitard_path,raster_eperiaan_Aquifer_path]\n",
    "\n",
    "interp_elevs = mod_utils_SS.interpolate_to_grid(file_list, xul, yul, nrow, ncol, delr, delc)\n"
   ]
  },
  {
   "cell_type": "code",
   "execution_count": 9,
   "metadata": {},
   "outputs": [
    {
     "data": {
      "text/plain": [
       "5"
      ]
     },
     "execution_count": 9,
     "metadata": {},
     "output_type": "execute_result"
    }
   ],
   "source": [
    "interp_elevs = mod_utils_SS.check_layer_elevs(interp_elevs,1.01)\n",
    "len(gls_lays)\n",
    "len(interp_elevs)"
   ]
  },
  {
   "cell_type": "code",
   "execution_count": 10,
   "metadata": {},
   "outputs": [],
   "source": [
    "botm = np.zeros((nlay,nrow,ncol),dtype=float)\n",
    "botm = mod_utils_SS.fill_botm_array(botm,interp_elevs,gls_lays)\n",
    "topm = mod_utils_SS.fill_topm_array(botm,interp_elevs,gls_lays)"
   ]
  },
  {
   "cell_type": "code",
   "execution_count": 11,
   "metadata": {},
   "outputs": [],
   "source": [
    "# Fecha inicial y final\n",
    "year_0 = 2015; month_0 = 1; day_0 = 1 \n",
    "year_F = 2015; month_F = 1; day_F = 2 \n",
    "\n",
    "SP = mod_utils_SS.Constru_SP(year_0, month_0, day_0, year_F, month_F, day_F,steady_0=True, steady=True, timestep=1, scale='d', n_scale=1)\n",
    "perlen, fecha_inicialSP, fecha_finalSP, nstp, tsmult, steady = SP\n",
    "nper = len(perlen)\n"
   ]
  },
  {
   "cell_type": "code",
   "execution_count": 12,
   "metadata": {},
   "outputs": [
    {
     "data": {
      "text/plain": [
       "([1.0], ['2015-01-01'], ['2015-01-02'], [1], [2.0], [True])"
      ]
     },
     "execution_count": 12,
     "metadata": {},
     "output_type": "execute_result"
    }
   ],
   "source": [
    "SP"
   ]
  },
  {
   "cell_type": "code",
   "execution_count": 13,
   "metadata": {},
   "outputs": [
    {
     "name": "stdout",
     "output_type": "stream",
     "text": [
      "writing simulation...\n",
      "  writing simulation name file...\n",
      "  writing simulation tdis package...\n",
      "  writing solution package ims_-1...\n",
      "  writing model Gondebeek_SS...\n",
      "    writing model name file...\n",
      "    writing package dis...\n",
      "    writing package npf...\n",
      "    writing package ic...\n",
      "    writing package oc...\n"
     ]
    }
   ],
   "source": [
    "mf6_exe = os.path.join('mf6')  # Path to MODFLOW 6 executable\n",
    "\n",
    "sim = flopy.mf6.MFSimulation(sim_name=modelname, version='mf6', exe_name=mf6_exe, sim_ws=model_dir)\n",
    "\n",
    "tdis = flopy.mf6.ModflowTdis(sim, time_units='DAYS', nper=nper, perioddata=[(1, 1, 2)])\n",
    "\n",
    "gwf = flopy.mf6.ModflowGwf(sim, modelname=modelname, save_flows=True)\n",
    "\n",
    "ims = flopy.mf6.ModflowIms(sim, print_option='SUMMARY', complexity='SIMPLE')\n",
    "\n",
    "# Get the initial botm and top arrays\n",
    "botm_array = botm.copy()\n",
    "top_array = interp_elevs[0].copy()\n",
    "\n",
    "# Create a mask where botm and top are not -1.000000E+09\n",
    "mask = np.logical_and(botm_array != -1.000000E+09, top_array != -1.000000E+09)\n",
    "\n",
    "# Create an IBOUND array based on the mask\n",
    "ibound = np.where(mask, 1, 0)\n",
    "\n",
    "# Change -1e9 to zero\n",
    "botm_array[botm_array == -1.000000E+09] = 0\n",
    "top_array[top_array == -1.000000E+09] = 0\n",
    "\n",
    "# Define the lower-left y-coordinate\n",
    "yll = 177000.0\n",
    "\n",
    "# Calculate the total height of the model grid\n",
    "total_height = nrow * delc\n",
    "\n",
    "# Adjust the y-origin\n",
    "yul = yll + total_height\n",
    "\n",
    "# Create the ModflowGwfdis object with the updated y-origin\n",
    "dis = flopy.mf6.ModflowGwfdis(gwf, nlay=nlay, nrow=nrow, ncol=ncol, delr=delr, delc=delc, top=top_array, botm=botm_array, xorigin=xul, yorigin=177000.0, idomain=ibound)\n",
    "# Create the ModflowGwfnpf object with the ibound array\n",
    "npf = flopy.mf6.ModflowGwfnpf(gwf, save_specific_discharge=True, icelltype=1, k=500)\n",
    "\n",
    "strt = np.repeat(top_array[np.newaxis, :, :], nlay, axis=0)\n",
    "ic = flopy.mf6.ModflowGwfic(gwf, strt=strt)\n",
    "\n",
    "# Create the OC package\n",
    "oc = flopy.mf6.ModflowGwfoc(gwf, pname='oc', budget_filerecord='Gondebeek_SS.cbc',\n",
    "                             head_filerecord='Gondebeek_SS.hds',\n",
    "                             saverecord=[('HEAD', 'LAST'), ('BUDGET', 'LAST')])\n",
    "\n",
    "# Write the simulation\n",
    "sim.write_simulation()"
   ]
  },
  {
   "cell_type": "markdown",
   "metadata": {},
   "source": []
  },
  {
   "cell_type": "code",
   "execution_count": 14,
   "metadata": {},
   "outputs": [
    {
     "name": "stdout",
     "output_type": "stream",
     "text": [
      "Index(['node', 'row', 'column', 'icellpe_1_', 'icellpe_2_', 'icellpe_3_',\n",
      "       'icellpe_4_', 'icellpe_5_', 'k_1', 'k_2', 'k_3', 'k_4', 'k_5', 'k33_1',\n",
      "       'k33_2', 'k33_3', 'k33_4', 'k33_5', 'geometry'],\n",
      "      dtype='object')\n",
      "Index(['node', 'row', 'column', 'iconvert_1', 'iconvert_2', 'iconvert_3',\n",
      "       'iconvert_4', 'iconvert_5', 'ss_1', 'ss_2', 'ss_3', 'ss_4', 'ss_5',\n",
      "       'sy_1', 'sy_2', 'sy_3', 'sy_4', 'sy_5', 'geometry'],\n",
      "      dtype='object')\n"
     ]
    }
   ],
   "source": [
    "# Load the shapefile for K and s:\n",
    "k_path = r\"C:\\Users\\sebas\\Documents\\UGent\\Sem 3\\Thesis\\GondebeekModel\\Inputs\\Marylidia_data\\DEM\\DEM\\provincie_k_clipped.shp\"\n",
    "s_path = r\"C:\\Users\\sebas\\Documents\\UGent\\Sem 3\\Thesis\\GondebeekModel\\Inputs\\Marylidia_data\\DEM\\DEM\\provincie_s_clipped.shp\"\n",
    "k = gpd.read_file(k_path)\n",
    "s = gpd.read_file(s_path)\n",
    "# Print the attributes of the shapefile\n",
    "print(k.columns)\n",
    "print(s.columns)"
   ]
  },
  {
   "cell_type": "code",
   "execution_count": 15,
   "metadata": {},
   "outputs": [
    {
     "name": "stdout",
     "output_type": "stream",
     "text": [
      "WARNING: Package with type npf already exists. Replacing existing package.\n",
      "writing simulation...\n",
      "  writing simulation name file...\n",
      "  writing simulation tdis package...\n",
      "  writing solution package ims_-1...\n",
      "  writing model Gondebeek_SS...\n",
      "    writing model name file...\n",
      "    writing package dis...\n",
      "    writing package ic...\n",
      "    writing package oc...\n",
      "    writing package npf...\n",
      "    writing package sto...\n"
     ]
    }
   ],
   "source": [
    "gwf = sim.get_model(\"Gondebeek_SS\")  # Replace \"model_name\" with the name of your model\n",
    "\n",
    "mod_utils_SS.set_hydraulic_properties_mf6(sim, gwf, k, s, bbox, delr, delc, ['k_1', 'k_2', 'k_3', 'k_3'], \n",
    "                                   ['k33_1', 'k33_2', 'k33_3', 'k33_3'],['sy_1', 'sy_2', 'sy_3', 'sy_3'], ['ss_1', 'ss_2', 'ss_3', 'ss_3'])\n",
    "#write lpf package \n",
    "\n",
    "sim.write_simulation()"
   ]
  },
  {
   "cell_type": "code",
   "execution_count": 16,
   "metadata": {},
   "outputs": [
    {
     "name": "stdout",
     "output_type": "stream",
     "text": [
      "\n",
      "npf PACKAGE DATA VALIDATION:\n",
      "  No errors or warnings encountered.\n",
      "\n",
      "  Checks that passed:\n",
      "    zero or negative horizontal hydraulic conductivity values\n",
      "    vertical hydraulic conductivity values below checker threshold of 1e-11\n",
      "    vertical hydraulic conductivity values above checker threshold of 100000.0\n",
      "    horizontal hydraulic conductivity values below checker threshold of 1e-11\n",
      "    horizontal hydraulic conductivity values above checker threshold of 100000.0\n",
      "\n"
     ]
    },
    {
     "data": {
      "text/plain": [
       "<flopy.utils.check.mf6check at 0x18ac6e3d9a0>"
      ]
     },
     "execution_count": 16,
     "metadata": {},
     "output_type": "execute_result"
    }
   ],
   "source": [
    "gwf.npf.check()"
   ]
  },
  {
   "cell_type": "markdown",
   "metadata": {},
   "source": [
    "Get the initial heads from pseudo_SS"
   ]
  },
  {
   "cell_type": "code",
   "execution_count": 17,
   "metadata": {},
   "outputs": [],
   "source": [
    "# import flopy.utils.binaryfile as bf\n",
    "# import flopy.modflow as mf\n",
    "\n",
    "# # Load the head data from the first model\n",
    "# headobj = bf.HeadFile('C:\\\\Users\\\\sebas\\\\Documents\\\\UGent\\\\Sem 3\\\\Thesis\\\\GondebeekModel\\\\Modflow\\\\Gondebeek.hds')\n",
    "# head = headobj.get_data()\n",
    "\n",
    "# # Extract the head data from the last stress period\n",
    "# last_sp_heads = head[-1]\n",
    "\n",
    "# # Load the second model\n",
    "# model = mf.Modflow.load('Gondebeek_SS.nam')  # Replace 'Gondebeek_SS.nam' with the path to your name file\n",
    "\n",
    "# # Remove the existing BAS package\n",
    "# model.remove_package('BAS6')\n",
    "\n",
    "# # Create a new BAS package with the updated initial heads\n",
    "# bas = mf.ModflowBas(model, strt=last_sp_heads)\n",
    "\n",
    "# # Write the updated model to a new set of files\n",
    "# model.write_input()"
   ]
  },
  {
   "cell_type": "code",
   "execution_count": 18,
   "metadata": {},
   "outputs": [
    {
     "data": {
      "image/png": "[encoded data removed]",
      "text/plain": [
       "<Figure size 864x864 with 2 Axes>"
      ]
     },
     "metadata": {
      "needs_background": "light"
     },
     "output_type": "display_data"
    }
   ],
   "source": [
    "\n",
    "# Get the top layer of the model\n",
    "top_layer = gwf.dis.top.array\n",
    "\n",
    "# Define the minimum and maximum values for the colorbar\n",
    "vmin, vmax = 0, top_layer.max()\n",
    "\n",
    "# Create a figure\n",
    "fig = plt.figure(figsize=(12, 12))\n",
    "ax = fig.add_subplot(1, 1, 1, aspect=\"equal\")\n",
    "\n",
    "# Create a map of the model\n",
    "modelmap = flopy.plot.PlotMapView(model=gwf)\n",
    "\n",
    "# Plot the top layer of the model\n",
    "quadmesh = modelmap.plot_array(top_layer, vmin=vmin, vmax=vmax)\n",
    "\n",
    "# Plot the grid and inactive cells\n",
    "#linecollection = modelmap.plot_grid()\n",
    "#quadmesh = modelmap.plot_ibound(ibound=noflow, color_noflow='cyan')\n",
    "\n",
    "# Add a colorbar with a label\n",
    "cbar = plt.colorbar(quadmesh, shrink=0.7)\n",
    "cbar.set_label('Elevation (m)')\n",
    "\n",
    "# Add labels to the x and y axes\n",
    "plt.xlabel('X Coordinate (m)')\n",
    "plt.ylabel('Y Coordinate (m)')\n",
    "\n",
    "# Add a title\n",
    "plt.title(\"Gondebeek GW model\")\n",
    "\n",
    "# Save the plot as a PNG file\n",
    "plt.savefig('Gondebeek_GW_model.png')\n",
    "\n",
    "# Show the plot\n",
    "plt.show()\n"
   ]
  },
  {
   "cell_type": "markdown",
   "metadata": {},
   "source": [
    "Recharge"
   ]
  },
  {
   "cell_type": "code",
   "execution_count": 19,
   "metadata": {},
   "outputs": [],
   "source": [
    "# Calculate the daily recharge rate in meters per day\n",
    "recharge_rate = 0.0019902180502591182 / 3   # Convert from mm/day to m/day (and the third part only is infiltrated)\n",
    "\n",
    "# Create a 2D array with the recharge rate\n",
    "recharge_array = [[recharge_rate for _ in range(ncol)] for _ in range(nrow)]\n",
    "\n",
    "# Get the groundwater flow model\n",
    "gwf = sim.get_model(\"Gondebeek_SS\")  # Replace \"Gondebeek_SS\" with the name of your model\n",
    "\n",
    "# Get the number of stress periods\n",
    "nper = sim.tdis.nper.data\n",
    "\n",
    "# Create a dictionary with the recharge rate for each stress period\n",
    "recharge = {kper: recharge_array for kper in range(nper)}\n",
    "\n",
    "# Get the groundwater flow model\n",
    "gwf = sim.get_model(\"Gondebeek_SS\")  # Replace \"Gondebeek_SS\" with the name of your model\n",
    "\n",
    "# Create the recharge package\n",
    "rch = ModflowGwfrcha(gwf, recharge=recharge)\n",
    "\n",
    "# Write the package\n",
    "rch.write()\n"
   ]
  },
  {
   "cell_type": "code",
   "execution_count": 20,
   "metadata": {},
   "outputs": [],
   "source": [
    "#First: Clip river shapefile (WLas):\n",
    "\n",
    "river_path = \"C:\\\\Users\\\\sebas\\\\Documents\\\\UGent\\\\Sem 3\\\\Thesis\\\\GondebeekModel\\\\Inputs\\\\Streams\\\\Shapefile\"\n",
    "shp_river = os.path.join(river_path,\"Wlas.shp\")\n",
    "\n",
    "\n",
    "# Load your polygon and line shapefiles\n",
    "polygon = gpd.read_file(shp_Gondebeek_path)\n",
    "line = gpd.read_file(shp_river)\n",
    "\n",
    "# Reproject the line GeoDataFrame to match the CRS of the polygon GeoDataFrame\n",
    "line = line.to_crs(polygon.crs)\n",
    "\n",
    "# Perform the clip operation\n",
    "clipped = gpd.clip(line, polygon)\n",
    "\n",
    "shp_river_clipped = os.path.join(river_path,\"Wlas_clipped.shp\")\n",
    "# Save the clipped part to a new shapefile\n",
    "clipped.to_file(shp_river_clipped)"
   ]
  },
  {
   "cell_type": "code",
   "execution_count": 21,
   "metadata": {},
   "outputs": [
    {
     "name": "stdout",
     "output_type": "stream",
     "text": [
      "INFORMATION: maxbound in ('gwf6', 'riv', 'dimensions') changed to 762 based on size of stress_period_data\n"
     ]
    }
   ],
   "source": [
    "from rtree import index\n",
    "import geopandas as gpd\n",
    "from shapely.geometry import Polygon\n",
    "\n",
    "# Get the groundwater flow model\n",
    "gwf = sim.get_model(\"Gondebeek_SS\")  # Replace \"Gondebeek_SS\" with the name of your model\n",
    "\n",
    "# Get the top elevation array and active cell data from your model\n",
    "top_elev = gwf.dis.top.array\n",
    "ibound = gwf.dis.idomain.array  # get the array of active cells\n",
    "\n",
    "clipped = gpd.read_file(shp_river_clipped)\n",
    "layer = 0  # layer number (only layer 1)\n",
    "# Create a spatial index\n",
    "idx = index.Index()\n",
    "\n",
    "# Populate spatial index with bounding boxes of active cells\n",
    "for row in range(gwf.modelgrid.nrow):\n",
    "    for col in range(gwf.modelgrid.ncol):\n",
    "        if ibound[layer, row, col] > 0:\n",
    "            x_center = gwf.modelgrid.xcellcenters[row, col]\n",
    "            y_center = gwf.modelgrid.ycellcenters[row, col]\n",
    "            dx = gwf.modelgrid.delc[row] / 2\n",
    "            dy = gwf.modelgrid.delr[col] / 2\n",
    "            bounds = (x_center - dx, y_center - dy, x_center + dx, y_center + dy)\n",
    "            idx.insert((row * gwf.modelgrid.ncol) + col, bounds)\n",
    "            \n",
    "\n",
    "# Initialize the segment and reach numbers\n",
    "segment = 1\n",
    "reach = 1\n",
    "flow = 1\n",
    "\n",
    "# Convert the shapefile to a list of [layer, row, column, segment, reach, flow, strhc1, strtop, slope, strthick, width, rough] for each reach\n",
    "stream_data = []\n",
    "processed_cells = set()  # Set to keep track of processed cells\n",
    "\n",
    "for index, data in clipped.iterrows():\n",
    "    # Get the vertices of the LineString\n",
    "    vertices = list(data['geometry'].coords)\n",
    "    \n",
    "    for i in range(len(vertices) - 1):\n",
    "        # Calculate the minimum and maximum x and y coordinates\n",
    "        minx = min(vertices[i][0], vertices[i+1][0])\n",
    "        miny = min(vertices[i][1], vertices[i+1][1])\n",
    "        maxx = max(vertices[i][0], vertices[i+1][0])\n",
    "        maxy = max(vertices[i][1], vertices[i+1][1])\n",
    "        \n",
    "        # Get intersecting cells using spatial index\n",
    "        coordinates = (minx, miny, maxx, maxy)\n",
    "        intersecting_cells = list(idx.intersection(coordinates))\n",
    "       \n",
    "        if not intersecting_cells:\n",
    "            continue\n",
    "        \n",
    "        # Process only the intersecting active cells\n",
    "        for cell_index in intersecting_cells:\n",
    "            row = cell_index // gwf.modelgrid.ncol\n",
    "            col = cell_index % gwf.modelgrid.ncol\n",
    "            \n",
    "            # Skip the specific cells\n",
    "            if (row, col) in [(1, 52), (6, 58)]:\n",
    "                continue\n",
    "            \n",
    "            # Skip if the cell has already been processed\n",
    "            if (row, col) in processed_cells:\n",
    "                continue\n",
    "            \n",
    "            layer = 0  # layer number (only layer 1)\n",
    "            # Check if the cell is within the active domain\n",
    "            if ibound[layer, row, col] > 0:\n",
    "                \n",
    "                # Calculate the reach length as the distance between the centers of the cells\n",
    "                next_row, next_col = gwf.modelgrid.intersect(vertices[i+1][0], vertices[i+1][1])\n",
    "                # Check if the next cell is within the active domain\n",
    "                if ibound[layer, next_row, next_col] > 0:\n",
    "                    rchlen = ((gwf.modelgrid.xcellcenters[row, col] - gwf.modelgrid.xcellcenters[next_row, next_col])**2 + \n",
    "                              (gwf.modelgrid.ycellcenters[row, col] - gwf.modelgrid.ycellcenters[next_row, next_col])**2)**0.5\n",
    "                    strtop = top_elev[row, col]  # streambed top (top elevation of the cell)\n",
    "                    # Calculate the change in elevation\n",
    "                    delta_elev = top_elev[row, col] - top_elev[next_row, next_col]\n",
    "                    # Calculate the slope\n",
    "                    slope = abs(delta_elev / rchlen)\n",
    "                    if np.isnan(slope):\n",
    "                        slope=0.018\n",
    "                    strthick = 1.0  # streambed thickness\n",
    "                    strhc1 = 43.0  # streambed conductance\n",
    "                    stage = 1.0  # initial stream stage\n",
    "                    width = 1.0  # stream width\n",
    "                    rough = 1.0  # roughness coefficient\n",
    "                    cell_id = (layer, row, col)\n",
    "                    stream_data.append([cell_id, stage+strtop,strhc1,strtop])\n",
    "                    reach += 1  # increment the reach number\n",
    "                    processed_cells.add((row, col))  # Add the cell to the set of processed cells\n",
    "                    \n",
    "    segment += 1  # increment the segment number\n",
    "    reach = 1  # reset the reach number for the next segment\n",
    "\n",
    "# Get the number of stress periods\n",
    "nstress = sim.tdis.nper.data\n",
    "\n",
    "# Initialize the stress period data\n",
    "stress_period_data = []\n",
    "\n",
    "# Iterate over the stream data\n",
    "for i in range(len(stream_data)):\n",
    "    # Get the reach number\n",
    "    reach = stream_data[i][0]\n",
    "    \n",
    "    # Add the reach to the stress period data with status and 'active' keyword\n",
    "    stress_period_data.append((reach, 'status', 'active'))\n",
    "\n",
    "# Convert the list to a dictionary\n",
    "stress_period_data = {0: stress_period_data}\n",
    "# Initialize the connection data\n",
    "# Initialize the connection data\n",
    "# Initialize the connection data\n",
    "connection_data = []\n",
    "\n",
    "# Iterate over the stream data\n",
    "for i in range(len(stream_data) - 1):\n",
    "    # Get the reach number and the number of the next reach\n",
    "    reach = stream_data[i][0]\n",
    "    next_reach = stream_data[i+1][0] if i+1 < len(stream_data) else None\n",
    "\n",
    "    # Add the connection to the connection data\n",
    "    if next_reach is not None:\n",
    "        connection_data.append({\"ifno\": [reach], \"ic\": [next_reach]})\n",
    "    else:\n",
    "        connection_data.append({\"ifno\": [reach], \"ic\": [0]})\n",
    "\n",
    "\n",
    "\n",
    "# Add the connection data to the SFR package\n",
    "riv = ModflowGwfriv(gwf, pname='riv', save_flows=True, stress_period_data=stream_data)\n",
    "riv.write()\n",
    "\n",
    "\n"
   ]
  },
  {
   "cell_type": "code",
   "execution_count": null,
   "metadata": {},
   "outputs": [],
   "source": []
  },
  {
   "cell_type": "code",
   "execution_count": 22,
   "metadata": {},
   "outputs": [
    {
     "data": {
      "image/png": "[encoded data removed]",
      "text/plain": [
       "<Figure size 432x288 with 2 Axes>"
      ]
     },
     "metadata": {
      "needs_background": "light"
     },
     "output_type": "display_data"
    }
   ],
   "source": [
    "# Choose the layer you want to plot\n",
    "layer = 0\n",
    "\n",
    "# Create a figure and axis\n",
    "fig, ax = plt.subplots()\n",
    "\n",
    "# Plot the ibound array for the chosen layer\n",
    "cax = ax.imshow(ibound[layer], cmap='viridis')\n",
    "\n",
    "# Add a colorbar\n",
    "cbar = fig.colorbar(cax)\n",
    "\n",
    "# Show the plot\n",
    "plt.show()"
   ]
  },
  {
   "cell_type": "code",
   "execution_count": 23,
   "metadata": {},
   "outputs": [],
   "source": [
    "# # Load the daily evaporation data\n",
    "# et_dir = \"C:\\\\Users\\\\sebas\\\\Documents\\\\UGent\\\\Sem 3\\\\Thesis\\\\GondebeekModel\\\\Inputs\\\\ET\"\n",
    "# csv_et_daily = os.path.join(et_dir, 'et_daily.csv')\n",
    "# df_et_daily = pd.read_csv(csv_et_daily, delimiter=',')\n",
    "\n",
    "# # Get the ET , and only 20% s real ET\n",
    "# evtr = 0.00163906717512467 * 0.2\n",
    "\n",
    "# # Create the EVT package\n",
    "# evt = flopy.modflow.ModflowEvt(sim, nevtop=1, evtr=evtr, ipakcb=50)\n",
    "# # Add the EVT package to the MODFLOW model\n",
    "# sim.add_package(evt)\n",
    "\n",
    "# evt.write_file()\n",
    "# sim.write_input()"
   ]
  },
  {
   "cell_type": "code",
   "execution_count": 24,
   "metadata": {},
   "outputs": [
    {
     "name": "stdout",
     "output_type": "stream",
     "text": [
      "writing simulation...\n",
      "  writing simulation name file...\n",
      "  writing simulation tdis package...\n",
      "  writing solution package ims_-1...\n",
      "  writing model Gondebeek_SS...\n",
      "    writing model name file...\n",
      "    writing package dis...\n",
      "    writing package ic...\n",
      "    writing package oc...\n",
      "    writing package npf...\n",
      "    writing package sto...\n",
      "    writing package rcha_0...\n",
      "    writing package riv...\n",
      "Checking model \"Gondebeek_SS\"...\n",
      "\n",
      "Gondebeek_SS MODEL DATA VALIDATION SUMMARY:\n",
      "  No errors or warnings encountered.\n",
      "\n",
      "  Checks that passed:\n",
      "    npf package: zero or negative horizontal hydraulic conductivity values\n",
      "    npf package: vertical hydraulic conductivity values below checker threshold of 1e-11\n",
      "    npf package: vertical hydraulic conductivity values above checker threshold of 100000.0\n",
      "    npf package: horizontal hydraulic conductivity values below checker threshold of 1e-11\n",
      "    npf package: horizontal hydraulic conductivity values above checker threshold of 100000.0\n",
      "    riv package: BC indices valid\n",
      "    riv package: not a number (Nan) entries\n",
      "    riv package: BC in inactive cells\n",
      "\n",
      "Checking for missing simulation packages...\n"
     ]
    },
    {
     "data": {
      "text/plain": [
       "[<flopy.utils.check.mf6check at 0x18b010b3550>]"
      ]
     },
     "execution_count": 24,
     "metadata": {},
     "output_type": "execute_result"
    }
   ],
   "source": [
    "# # Load the model\n",
    "# model = mf.Modflow.load('Gondebeek_SS.nam')  # Replace 'Gondebeek_SS.nam' with the path to your name file\n",
    "\n",
    "# # Get the UPW package\n",
    "# upw = model.get_package('UPW')\n",
    "\n",
    "# # Multiply the hydraulic conductivity arrays by 10\n",
    "# hk = upw.hk.array * 100\n",
    "# vka = upw.vka.array * 10\n",
    "\n",
    "# # Remove the existing UPW package\n",
    "# model.remove_package('UPW')\n",
    "\n",
    "# # Create a new UPW package with the updated hydraulic conductivity values\n",
    "# upw = mf.ModflowUpw(model, hk=hk, vka=vka)\n",
    "\n",
    "# # Write the updated model to a new set of files\n",
    "# model.write_input()\n",
    "\n",
    "sim.write_simulation()\n",
    "sim.check()"
   ]
  },
  {
   "cell_type": "code",
   "execution_count": 25,
   "metadata": {},
   "outputs": [
    {
     "name": "stdout",
     "output_type": "stream",
     "text": [
      "FloPy is using the following executable to run the model: mf6.exe\n"
     ]
    },
    {
     "name": "stdout",
     "output_type": "stream",
     "text": [
      "                                   MODFLOW 6\n",
      "                U.S. GEOLOGICAL SURVEY MODULAR HYDROLOGIC MODEL\n",
      "                            VERSION 6.4.2 06/28/2023\n",
      "\n",
      "   MODFLOW 6 compiled Jul 05 2023 20:31:54 with Intel(R) Fortran Intel(R) 64\n",
      "   Compiler Classic for applications running on Intel(R) 64, Version 2021.7.0\n",
      "                             Build 20220726_000000\n",
      "\n",
      "This software has been approved for release by the U.S. Geological \n",
      "Survey (USGS). Although the software has been subjected to rigorous \n",
      "review, the USGS reserves the right to update the software as needed \n",
      "pursuant to further analysis and review. No warranty, expressed or \n",
      "implied, is made by the USGS or the U.S. Government as to the \n",
      "functionality of the software and related material nor shall the \n",
      "fact of release constitute any such warranty. Furthermore, the \n",
      "software is released on condition that neither the USGS nor the U.S. \n",
      "Government shall be held liable for any damages resulting from its \n",
      "authorized or unauthorized use. Also refer to the USGS Water \n",
      "Resources Software User Rights Notice for complete use, copyright, \n",
      "and distribution information.\n",
      "\n",
      " \n",
      " Run start date and time (yyyy/mm/dd hh:mm:ss): 2024/03/03 18:06:05\n",
      " \n",
      " Writing simulation list file: mfsim.lst\n",
      " Using Simulation name file: mfsim.nam\n",
      " \n",
      "    Solving:  Stress period:     1    Time step:     1\n",
      " \n",
      " Run end date and time (yyyy/mm/dd hh:mm:ss): 2024/03/03 18:06:05\n",
      " Elapsed run time:  0.244 Seconds\n",
      " \n",
      " Normal termination of simulation.\n"
     ]
    },
    {
     "data": {
      "text/plain": [
       "(True, [])"
      ]
     },
     "execution_count": 25,
     "metadata": {},
     "output_type": "execute_result"
    }
   ],
   "source": [
    "# Run the model\n",
    "sim.run_simulation()"
   ]
  },
  {
   "cell_type": "markdown",
   "metadata": {},
   "source": [
    "Check heads before running"
   ]
  },
  {
   "cell_type": "code",
   "execution_count": null,
   "metadata": {},
   "outputs": [],
   "source": []
  },
  {
   "cell_type": "markdown",
   "metadata": {},
   "source": [
    "Check heads after running"
   ]
  },
  {
   "cell_type": "code",
   "execution_count": 26,
   "metadata": {},
   "outputs": [
    {
     "data": {
      "image/png": "[encoded data removed]",
      "text/plain": [
       "<Figure size 720x720 with 2 Axes>"
      ]
     },
     "metadata": {
      "needs_background": "light"
     },
     "output_type": "display_data"
    }
   ],
   "source": [
    "\n",
    "# Load the head data\n",
    "hds = flopy.utils.HeadFile('Gondebeek_SS.hds')\n",
    "\n",
    "# Get all times and stress periods/time steps\n",
    "times = hds.get_times()\n",
    "kstpkper = hds.get_kstpkper()\n",
    "\n",
    "# Get the last time and stress period/time step\n",
    "last_time = times[-1]\n",
    "last_kstpkper = kstpkper[-1]\n",
    "\n",
    "# Get the head for the last stress period and time step\n",
    "head = hds.get_data(totim=last_time)\n",
    "\n",
    "# Mask values lower than -900\n",
    "head = np.ma.masked_where(head > 50000, head)\n",
    "\n",
    "# Plot the head for layer 1\n",
    "plt.figure(figsize=(10, 10))\n",
    "plt.imshow(head[1, :, :], cmap='viridis', interpolation='none')\n",
    "plt.colorbar(label='Head (m)')\n",
    "plt.title('Head for Layer 1 in the Last Stress Period')\n",
    "plt.show()"
   ]
  },
  {
   "cell_type": "code",
   "execution_count": 27,
   "metadata": {},
   "outputs": [
    {
     "name": "stdout",
     "output_type": "stream",
     "text": [
      "loading simulation...\n",
      "  loading simulation name file...\n",
      "  loading tdis package...\n",
      "  loading model gwf6...\n",
      "    loading package dis...\n",
      "    loading package oc...\n",
      "    loading package ic...\n",
      "    loading package npf...\n",
      "    loading package sto...\n",
      "    loading package rch...\n",
      "    loading package riv...\n",
      "  loading solution package gondebeek_ss...\n"
     ]
    },
    {
     "data": {
      "image/png": "[encoded data removed]",
      "text/plain": [
       "<Figure size 720x720 with 2 Axes>"
      ]
     },
     "metadata": {
      "needs_background": "light"
     },
     "output_type": "display_data"
    }
   ],
   "source": [
    "# Load the model\n",
    "sim = flopy.mf6.MFSimulation.load(sim_name='Gondebeek_SS')  # replace 'Gondebeek_SS.nam' with your model name\n",
    "gwf = sim.get_model('Gondebeek_SS')\n",
    "# Get the top elevation of the cells\n",
    "top = gwf.dis.top.array\n",
    "\n",
    "# Calculate the difference between the head and the top elevation\n",
    "diff = head[1, :, :] - top\n",
    "\n",
    "# Create a mask for the flooded cells (where the difference is positive)\n",
    "flooded = np.ma.masked_where(diff <= 0, diff)\n",
    "\n",
    "# Create a mask for the non-flooded cells (where the difference is zero or negative)\n",
    "non_flooded = np.ma.masked_where(diff > 0, diff)\n",
    "\n",
    "# Plot the non-flooded cells in blue and the flooded cells in red\n",
    "plt.figure(figsize=(10, 10))\n",
    "plt.imshow(non_flooded, cmap='Blues', interpolation='none')\n",
    "plt.imshow(flooded, cmap='Reds', interpolation='none')\n",
    "plt.colorbar(label='Head - Top Elevation (m)')\n",
    "plt.title('Flooded and Non-Flooded Cells for Layer 1 in the Last Stress Period')\n",
    "plt.show()"
   ]
  },
  {
   "cell_type": "code",
   "execution_count": 28,
   "metadata": {},
   "outputs": [
    {
     "name": "stdout",
     "output_type": "stream",
     "text": [
      "loading simulation...\n",
      "  loading simulation name file...\n",
      "  loading tdis package...\n",
      "  loading model gwf6...\n",
      "    loading package dis...\n",
      "    loading package oc...\n",
      "    loading package ic...\n",
      "    loading package npf...\n",
      "    loading package sto...\n",
      "    loading package rch...\n",
      "    loading package riv...\n",
      "  loading solution package gondebeek_ss...\n",
      "FloPy is using the following executable to run the model: zbud6.exe\n",
      "                              ZONEBUDGET Version 6\n",
      "                             U.S. GEOLOGICAL SURVEY\n",
      "                            VERSION 6.4.4 02/13/2024\n",
      ".....\n",
      " \n",
      "Normal Termination\n",
      "   totim    name        ZONE_1\n",
      "0    1.0  STO_SS      0.000000\n",
      "1    1.0     RIV -28846.011225\n",
      "2    1.0    RCHA  28844.893619\n",
      "3    1.0  ZONE_0      0.000000\n",
      "4    1.0  ZONE_1      0.000000\n"
     ]
    }
   ],
   "source": [
    "# Load the model\n",
    "sim = flopy.mf6.MFSimulation.load(sim_name='Gondebeek_SS')\n",
    "gwf = sim.get_model('Gondebeek_SS')\n",
    "\n",
    "# Get the idomain array from the dis package of the model\n",
    "idomain = gwf.dis.idomain.array\n",
    "\n",
    "# Create the zone array from the idomain array\n",
    "zon = np.where(idomain == 0, 1, idomain)\n",
    "\n",
    "zonbud = gwf.output.zonebudget(zon)\n",
    "zonbud.change_model_ws(directory)\n",
    "zonbud.write_input()\n",
    "zonbud.run_model()\n",
    "\n",
    "df = zonbud.get_dataframes(net=True)\n",
    "df = df.reset_index()\n",
    "\n",
    "# Delete the zonbud object\n",
    "del zonbud\n",
    "\n",
    "# Print the contents of the CSV file for the last time step and stress period\n",
    "print(df)"
   ]
  },
  {
   "cell_type": "code",
   "execution_count": 29,
   "metadata": {},
   "outputs": [
    {
     "data": {
      "image/png": "[encoded data removed]",
      "text/plain": [
       "<Figure size 720x360 with 1 Axes>"
      ]
     },
     "metadata": {
      "needs_background": "light"
     },
     "output_type": "display_data"
    },
    {
     "data": {
      "image/png": "[encoded data removed]",
      "text/plain": [
       "<Figure size 720x360 with 1 Axes>"
      ]
     },
     "metadata": {
      "needs_background": "light"
     },
     "output_type": "display_data"
    }
   ],
   "source": [
    "\n",
    "\n",
    "# Load the budget data from the CSV file\n",
    "budget_df = pd.read_csv('zonebud.csv')\n",
    "\n",
    "# Compute the total inflow and outflow for each time step\n",
    "budget_df['IN'] = budget_df.filter(regex='-IN$').sum(axis=1)\n",
    "budget_df['OUT'] = -budget_df.filter(regex='-OUT$').sum(axis=1)  # Make the OUT terms negative\n",
    "\n",
    "# Compute the percent discrepancy\n",
    "budget_df['PERCENT_DISCREPANCY'] = (budget_df['OUT'] + budget_df['IN']) / budget_df['IN'] * 100\n",
    "\n",
    "# Select only the \"-IN\" and \"-OUT\" terms\n",
    "budget_df = budget_df.filter(regex='IN$|OUT$|PERCENT_DISCREPANCY')\n",
    "\n",
    "# Convert the flow values from cubic meters per day to liters per second, excluding the percent discrepancy\n",
    "for component in budget_df.columns:\n",
    "    if component != 'PERCENT_DISCREPANCY':\n",
    "        budget_df[component] = pd.to_numeric(budget_df[component], errors='coerce') / 86.4\n",
    "\n",
    "# Plot each component of the balances, excluding the \"percent discrepancy\"\n",
    "plt.figure(figsize=(10, 5))\n",
    "for component in budget_df.columns:\n",
    "    if component != 'PERCENT_DISCREPANCY':\n",
    "        if len(budget_df.index) == 1:\n",
    "            plt.scatter(budget_df.index, budget_df[component], label=component)\n",
    "        else:\n",
    "            plt.plot(budget_df.index, budget_df[component], label=component)\n",
    "\n",
    "# Add a legend\n",
    "plt.legend()\n",
    "\n",
    "# Add labels\n",
    "plt.xlabel('totim')\n",
    "plt.ylabel('Balance (L/s)')  # Update the y-axis label\n",
    "\n",
    "# Show the plot\n",
    "plt.show()\n",
    "\n",
    "# Plot the \"percent discrepancy\" separately\n",
    "plt.figure(figsize=(10, 5))\n",
    "if len(budget_df.index) == 1:\n",
    "    plt.scatter(budget_df.index, budget_df['PERCENT_DISCREPANCY'], label='PERCENT_DISCREPANCY')\n",
    "else:\n",
    "    plt.plot(budget_df.index, budget_df['PERCENT_DISCREPANCY'], label='PERCENT_DISCREPANCY')\n",
    "\n",
    "# Add a legend\n",
    "plt.legend()\n",
    "\n",
    "# Add labels\n",
    "plt.xlabel('totim')\n",
    "plt.ylabel('Percent Discrepancy')\n",
    "\n",
    "# Show the plot\n",
    "plt.show()"
   ]
  },
  {
   "cell_type": "code",
   "execution_count": 30,
   "metadata": {},
   "outputs": [
    {
     "name": "stdout",
     "output_type": "stream",
     "text": [
      "loading simulation...\n",
      "  loading simulation name file...\n",
      "  loading tdis package...\n",
      "  loading model gwf6...\n",
      "    loading package dis...\n",
      "    loading package oc...\n",
      "    loading package ic...\n",
      "    loading package npf...\n",
      "    loading package sto...\n",
      "    loading package rch...\n",
      "    loading package riv...\n",
      "  loading solution package gondebeek_ss...\n"
     ]
    }
   ],
   "source": [
    "# Load the model\n",
    "sim = flopy.mf6.MFSimulation.load(sim_name='Gondebeek_SS')\n",
    "gwf = sim.get_model('Gondebeek_SS')\n",
    "\n",
    "# Get the modelgrid from the model\n",
    "modelgrid = gwf.modelgrid\n",
    "\n",
    "# Create a vtk object\n",
    "vtkobj = flopy.export.vtk.Vtk(gwf, modelgrid=modelgrid, vertical_exageration=10,binary=False)\n",
    "\n",
    "# Flatten the entire 3D array of bottom elevations\n",
    "botm_flattened = gwf.dis.botm.array.flatten()\n",
    "\n",
    "# Add the flattened array to the VTK object\n",
    "vtkobj.add_array(botm_flattened, \"botm\")\n",
    "\n",
    "# Calculate the top elevations\n",
    "botm = gwf.dis.botm.array\n",
    "top = np.empty_like(botm)\n",
    "top[0] = gwf.dis.top.array\n",
    "top[1:] = botm[:-1]\n",
    "\n",
    "# Flatten the entire 3D array of top elevations\n",
    "top_flattened = top.flatten()\n",
    "\n",
    "# Add the flattened array to the VTK object\n",
    "vtkobj.add_array(top_flattened, \"top\")\n",
    "\n",
    "# Flatten the entire 3D array of hydraulic conductivity\n",
    "hk_flattened = gwf.npf.k.array.flatten()\n",
    "\n",
    "# Add the flattened array to the VTK object\n",
    "vtkobj.add_array(hk_flattened, \"k\")\n",
    "\n",
    "# Flatten the entire 3D array of specific storage\n",
    "ss_flattened = gwf.sto.ss.array.flatten()\n",
    "\n",
    "# Add the flattened array to the VTK object\n",
    "vtkobj.add_array(ss_flattened, \"ss\")\n",
    "\n",
    "# Flatten the entire 3D array of specific yield\n",
    "sy_flattened = gwf.sto.sy.array.flatten()\n",
    "\n",
    "# Add the flattened array to the VTK object\n",
    "vtkobj.add_array(sy_flattened, \"sy\")\n",
    "\n",
    "# Flatten the entire 3D array of ibound\n",
    "ibound_flattened = gwf.dis.idomain.array.flatten()\n",
    "\n",
    "# Add the flattened array to the VTK object\n",
    "vtkobj.add_array(ibound_flattened, \"ibound\")\n",
    "\n",
    "# Write the VTK object to a file\n",
    "vtkobj.write(\"model_SS.vtk\")\n",
    "\n"
   ]
  },
  {
   "cell_type": "code",
   "execution_count": 31,
   "metadata": {},
   "outputs": [
    {
     "name": "stderr",
     "output_type": "stream",
     "text": [
      "c:\\Users\\sebas\\anaconda3\\envs\\BastianMod\\lib\\site-packages\\trame\\ui\\__init__.py:1: DeprecationWarning: Deprecated call to `pkg_resources.declare_namespace('trame.ui')`.\n",
      "Implementing implicit namespace packages (as specified in PEP 420) is preferred to `pkg_resources.declare_namespace`. See https://setuptools.pypa.io/en/latest/references/keywords.html#keyword-namespace-packages\n",
      "  __import__(\"pkg_resources\").declare_namespace(__name__)\n",
      "c:\\Users\\sebas\\anaconda3\\envs\\BastianMod\\lib\\site-packages\\pkg_resources\\__init__.py:2350: DeprecationWarning: Deprecated call to `pkg_resources.declare_namespace('trame')`.\n",
      "Implementing implicit namespace packages (as specified in PEP 420) is preferred to `pkg_resources.declare_namespace`. See https://setuptools.pypa.io/en/latest/references/keywords.html#keyword-namespace-packages\n",
      "  declare_namespace(parent)\n"
     ]
    },
    {
     "name": "stdout",
     "output_type": "stream",
     "text": [
      "UnstructuredGrid (0x18b0a125a00)\n",
      "  N Cells:    17392\n",
      "  N Points:   139136\n",
      "  X Bounds:   1.051e+05, 1.117e+05\n",
      "  Y Bounds:   1.770e+05, 1.885e+05\n",
      "  Z Bounds:   -2.823e+02, 7.836e+02\n",
      "  N Arrays:   6\n"
     ]
    },
    {
     "data": {
      "application/vnd.jupyter.widget-view+json": {
       "model_id": "e55f4ce4807a4e1b82b04e11a25fabd0",
       "version_major": 2,
       "version_minor": 0
      },
      "text/plain": [
       "Widget(value='<iframe src=\"http://localhost:56756/index.html?ui=P_0x18b02c59970_0&reconnect=auto\" class=\"pyvis…"
      ]
     },
     "metadata": {},
     "output_type": "display_data"
    }
   ],
   "source": [
    "# Set the backend for PyVista\n",
    "pv.set_jupyter_backend('trame')\n",
    "\n",
    "# Convert the VTK object to a PyVista mesh\n",
    "mesh = vtkobj.to_pyvista()\n",
    "\n",
    "# Apply a threshold filter to keep only cells where ibound equals 1\n",
    "thresholded_mesh = mesh.threshold(0.5, scalars=\"ibound\")\n",
    "\n",
    "# List all available point data\n",
    "print(thresholded_mesh)\n",
    "\n",
    "# Plot the thresholded mesh with a specific property\n",
    "# Replace 'property_name' with the name of the property you want to visualize\n",
    "thresholded_mesh.plot(scalars='k', cpos=[mesh.points[0], mesh.points[1], (0, 0, 0)], show_edges=False)\n",
    "\n",
    "# Save the thresholded mesh to a VTK file\n",
    "thresholded_mesh.save(\"Gondebeek_SS_act.vtk\")"
   ]
  },
  {
   "cell_type": "code",
   "execution_count": 32,
   "metadata": {},
   "outputs": [
    {
     "data": {
      "application/vnd.jupyter.widget-view+json": {
       "model_id": "c593b6a8b1b2486388a44a7b30152c57",
       "version_major": 2,
       "version_minor": 0
      },
      "text/plain": [
       "Widget(value='<iframe src=\"http://localhost:56756/index.html?ui=P_0x18b086b6f70_1&reconnect=auto\" class=\"pyvis…"
      ]
     },
     "metadata": {},
     "output_type": "display_data"
    }
   ],
   "source": [
    "botm=gwf.dis.botm.array\n",
    "mesh[\"botm\"] = np.ravel(botm)\n",
    "# Apply a threshold filter to keep only cells where ibound equals 1\n",
    "thresholded_mesh = mesh.threshold(0.5, scalars=\"ibound\")\n",
    "\n",
    "thresholded_mesh.plot(cpos=[mesh.points[0], mesh.points[1], (0, 0, 0)], scalars=\"botm\", show_edges=False)"
   ]
  }
 ],
 "metadata": {
  "kernelspec": {
   "display_name": "BastianMod",
   "language": "python",
   "name": "python3"
  },
  "language_info": {
   "codemirror_mode": {
    "name": "ipython",
    "version": 3
   },
   "file_extension": ".py",
   "mimetype": "text/x-python",
   "name": "python",
   "nbconvert_exporter": "python",
   "pygments_lexer": "ipython3",
   "version": "3.8.8"
  }
 },
 "nbformat": 4,
 "nbformat_minor": 2
}
