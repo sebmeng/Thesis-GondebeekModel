{
 "cells": [
  {
   "cell_type": "code",
   "execution_count": 1,
   "metadata": {},
   "outputs": [],
   "source": [
    "import os\n",
    "import pandas as pd\n",
    "import ipywidgets as widgets\n",
    "from ipywidgets import interact\n",
    "import matplotlib.pyplot as plt\n",
    "import numpy as np\n",
    "import flopy"
   ]
  },
  {
   "cell_type": "code",
   "execution_count": 2,
   "metadata": {},
   "outputs": [
    {
     "name": "stderr",
     "output_type": "stream",
     "text": [
      "<>:14: DeprecationWarning: invalid escape sequence \\s\n",
      "<>:14: DeprecationWarning: invalid escape sequence \\s\n",
      "C:\\Users\\sebas\\AppData\\Local\\Temp\\ipykernel_4244\\421470249.py:14: DeprecationWarning: invalid escape sequence \\s\n",
      "  data = pd.read_csv(os.path.join(directory, filename), sep='\\s+', names=['obs_point', 'date', 'time', 'head'])\n",
      "c:\\Users\\sebas\\anaconda3\\envs\\BastianMod\\lib\\site-packages\\ipywidgets\\widgets\\interaction.py:43: DeprecationWarning: `ipykernel.pylab.backend_inline` is deprecated, directly use `matplotlib_inline.backend_inline`\n",
      "  from ipykernel.pylab.backend_inline import flush_figures\n"
     ]
    },
    {
     "data": {
      "application/vnd.jupyter.widget-view+json": {
       "model_id": "dcc3abbdb9454c5c96ad94d3388c8c32",
       "version_major": 2,
       "version_minor": 0
      },
      "text/plain": [
       "interactive(children=(Dropdown(description='Obs Point:', options=('MOORT_8', 'OOST_17', 'MEL_4', 'MOORT_7', 'M…"
      ]
     },
     "metadata": {},
     "output_type": "display_data"
    },
    {
     "data": {
      "text/plain": [
       "<function __main__.plot_data(obs_point)>"
      ]
     },
     "execution_count": 2,
     "metadata": {},
     "output_type": "execute_result"
    }
   ],
   "source": [
    "\n",
    "# Load observed and synthetic data\n",
    "observed_data = pd.read_csv('C:\\\\Users\\\\sebas\\\\Documents\\\\UGent\\\\Sem 3\\\\Thesis\\\\GondebeekModel\\\\Outputs\\\\observed_data.csv')\n",
    "synthetic_data = pd.read_csv('C:\\\\Users\\\\sebas\\\\Documents\\\\UGent\\\\Sem 3\\\\Thesis\\\\GondebeekModel\\\\Outputs\\\\synthetic_data.csv')\n",
    "\n",
    "# Get the observation points that are in either observed or synthetic data\n",
    "obs_points = set(observed_data['obs_point']).union(synthetic_data['obs_point'])\n",
    "\n",
    "# Load all .smp files from the directory\n",
    "directory = 'C:\\\\Users\\\\sebas\\\\Documents\\\\UGent\\\\Sem 3\\\\Thesis\\\\GondebeekModel\\\\Outputs'\n",
    "simulated_data = {}\n",
    "for filename in os.listdir(directory):\n",
    "    if filename.endswith('.smp'):\n",
    "        iteration = filename.split('_')[1].split('.')[0]  # Get the iteration number from the filename\n",
    "        data = pd.read_csv(os.path.join(directory, filename), sep='\\s+', names=['obs_point', 'date', 'time', 'head'])\n",
    "        data = data[data['obs_point'].isin(obs_points)]  # Filter the data to only include the observation points in obs_points\n",
    "        simulated_data[f'Simulated {iteration}'] = data\n",
    "\n",
    "# Update the dropdown menu\n",
    "dropdown = widgets.Dropdown(\n",
    "    options=list(obs_points),\n",
    "    description='Obs Point:',\n",
    ")\n",
    "\n",
    "def plot_data(obs_point):\n",
    "    # Plot the data for the selected obs_point\n",
    "    plt.figure(figsize=(10, 6))\n",
    "    \n",
    "    # Initialize min_head and max_head\n",
    "    min_head = float('inf')\n",
    "    max_head = float('-inf')\n",
    "        \n",
    "    # Plot simulated data\n",
    "    for label, data in simulated_data.items():\n",
    "        data_to_plot = data[data['obs_point'] == obs_point]\n",
    "        dates = pd.to_datetime(data_to_plot['date'], format='%d/%m/%Y').to_numpy()\n",
    "        plt.plot(dates, data_to_plot['head'].to_numpy(), label=label)\n",
    "        min_head = min(min_head, data_to_plot['head'].min())\n",
    "        max_head = max(max_head, data_to_plot['head'].max())\n",
    "        \n",
    "    # Plot and highlight observed data\n",
    "    data_to_plot = observed_data[observed_data['obs_point'] == obs_point]\n",
    "    dates = pd.to_datetime(data_to_plot['date'], format='mixed').to_numpy()\n",
    "    plt.plot(dates, data_to_plot['head'].to_numpy(), label='Observed', linestyle='--', color='blue')\n",
    "    plt.scatter(dates, data_to_plot['head'].to_numpy(), color='blue')\n",
    "    min_head = min(min_head, data_to_plot['head'].min())\n",
    "    max_head = max(max_head, data_to_plot['head'].max())\n",
    "    \n",
    "    # Plot and highlight synthetic data\n",
    "    data_to_plot = synthetic_data[synthetic_data['obs_point'] == obs_point]\n",
    "    dates = pd.to_datetime(data_to_plot['date'], format='mixed').to_numpy()\n",
    "    plt.plot(dates, data_to_plot['head'].to_numpy(), label='Synthetic', linestyle=':', color='orange')\n",
    "    plt.scatter(dates, data_to_plot['head'].to_numpy(), color='orange')\n",
    "    min_head = min(min_head, data_to_plot['head'].min())\n",
    "    max_head = max(max_head, data_to_plot['head'].max())\n",
    "\n",
    "    # Set the y-axis limits\n",
    "    plt.ylim(min_head * 0.8, max_head * 1.2)\n",
    "\n",
    "    plt.title(f'Head for Obs Point {obs_point}')\n",
    "    plt.xlabel('Date')\n",
    "    plt.ylabel('Head')\n",
    "    plt.legend()\n",
    "    plt.show()\n",
    "# Create an interactive plot with the dropdown widget\n",
    "interact(plot_data, obs_point=dropdown)"
   ]
  },
  {
   "cell_type": "markdown",
   "metadata": {},
   "source": [
    "Load the model once"
   ]
  },
  {
   "cell_type": "code",
   "execution_count": 3,
   "metadata": {},
   "outputs": [
    {
     "name": "stdout",
     "output_type": "stream",
     "text": [
      "loading simulation...\n",
      "  loading simulation name file...\n",
      "  loading tdis package...\n",
      "  loading model gwf6...\n",
      "    loading package dis...\n",
      "    loading package drn...\n",
      "    loading package riv...\n",
      "    loading package rch...\n",
      "    loading package sto...\n",
      "    loading package ic...\n",
      "    loading package oc...\n",
      "    loading package npf...\n",
      "  loading solution package gondebeek...\n"
     ]
    }
   ],
   "source": [
    "# Define the workspace and model name\n",
    "model_ws = 'C:\\\\Users\\\\sebas\\\\Documents\\\\UGent\\\\Sem 3\\\\Thesis\\\\GondebeekModel\\\\Modflow_Master'\n",
    "model_name = 'Gondebeek'\n",
    "\n",
    "# Create a simulation\n",
    "sim = flopy.mf6.MFSimulation.load(sim_name=model_name, exe_name='mf6', sim_ws=model_ws)"
   ]
  },
  {
   "cell_type": "code",
   "execution_count": 4,
   "metadata": {},
   "outputs": [
    {
     "data": {
      "application/vnd.jupyter.widget-view+json": {
       "model_id": "0f39437eaf57494da22a9f1248aa200f",
       "version_major": 2,
       "version_minor": 0
      },
      "text/plain": [
       "interactive(children=(Dropdown(description='Obs Point:', options=('aelm_1', 'aelm_2', 'aelm_3', 'Mel_1', 'Mel_…"
      ]
     },
     "metadata": {},
     "output_type": "display_data"
    },
    {
     "data": {
      "text/plain": [
       "<function __main__.plot_data(obs_point)>"
      ]
     },
     "execution_count": 4,
     "metadata": {},
     "output_type": "execute_result"
    }
   ],
   "source": [
    "\n",
    "\n",
    "# Get the groundwater flow model\n",
    "gwf = sim.get_model(model_name)\n",
    "\n",
    "# Get the hydraulic conductivity values\n",
    "hk = gwf.npf.k.array\n",
    "\n",
    "# Get the idomain values\n",
    "idomain = gwf.dis.idomain.array\n",
    "\n",
    "# Mask the hydraulic conductivity values with the idomain\n",
    "hk_masked = np.ma.masked_where(idomain == 0, hk)\n",
    "\n",
    "# Get unique hydraulic conductivity values and assign each a unique random color\n",
    "unique_hk = np.unique(hk_masked.compressed())  # Use the compressed() method to remove the MaskedConstant values\n",
    "colors = [np.random.rand(3,) for _ in range(len(unique_hk))]\n",
    "hk_color_dict = dict(zip(unique_hk, colors))\n",
    "\n",
    "# Read the observation points\n",
    "obs_points = pd.read_csv(model_ws + '/bore_coord.dat', sep='\\t', header=None, names=['name', 'x', 'y', 'layer'])\n",
    "\n",
    "# Convert the x and y coordinates to row and column indices\n",
    "obs_points['row'] = np.floor((gwf.modelgrid.extent[3] - obs_points['y']) / gwf.modelgrid.delc[0]).astype(int)\n",
    "obs_points['col'] = np.floor((obs_points['x'] - gwf.modelgrid.extent[0]) / gwf.modelgrid.delr[0]).astype(int)\n",
    "\n",
    "# Create a dropdown menu for selecting the observation point\n",
    "dropdown = widgets.Dropdown(options=obs_points['name'], description='Obs Point:')\n",
    "\n",
    "# Define a function to plot the data for the selected observation point\n",
    "def plot_data(obs_point):\n",
    "    # Clear the current figure\n",
    "    plt.clf()\n",
    "    plt.figure(figsize=(15, 10))\n",
    "    # Get the layer of the selected observation point\n",
    "    layer = obs_points[obs_points['name'] == obs_point]['layer'].values[0] - 1\n",
    "    # Create a dictionary where each unique hydraulic conductivity value is a key and the corresponding value is a list of coordinates where this hydraulic conductivity value occurs\n",
    "    hk_coords = {hk: [] for hk in unique_hk}\n",
    "    for j in range(hk_masked[layer].shape[0]):\n",
    "        for k in range(hk_masked[layer].shape[1]):\n",
    "            if idomain[layer, j, k] != 0:  # Only consider active cells\n",
    "                hk_coords[hk_masked[layer, j, k]].append((j, k))\n",
    "\n",
    "# For each unique hydraulic conductivity value, calculate the center of the corresponding coordinates and display the hydraulic conductivity value at this center\n",
    "    for hk, coords in hk_coords.items():\n",
    "        if coords:  # If the list of coordinates is not empty\n",
    "            center = np.mean(coords, axis=0).astype(int)  # Calculate the center of the coordinates\n",
    "            plt.text(center[1], center[0], f'{hk:.3f}', ha='center', va='center', color='black', bbox=dict(facecolor='white', alpha=0.5, edgecolor='white'))  # Use three significant digits\n",
    "            \n",
    "    # Plot the hydraulic conductivity of the layer\n",
    "    color_layer = np.ones((hk_masked[layer].shape[0], hk_masked[layer].shape[1], 3))  # Initialize the color_layer array with ones\n",
    "    for j in range(hk_masked[layer].shape[0]):\n",
    "        for k in range(hk_masked[layer].shape[1]):\n",
    "            if idomain[layer, j, k] != 0:  # Only consider active cells\n",
    "                color_layer[j, k] = hk_color_dict[hk_masked[layer, j, k]]\n",
    "    plt.imshow(color_layer)\n",
    "    \n",
    "    plt.title(f'Hydraulic Conductivity Layer {layer+1} [m/d]')\n",
    "    \n",
    "    # Plot the observation points on the current layer\n",
    "    layer_obs_points = obs_points[obs_points['layer'] == layer+1]\n",
    "    plt.scatter(layer_obs_points['col'], layer_obs_points['row'], color='blue')\n",
    "    \n",
    "    # Highlight the selected observation point in red\n",
    "    selected_obs_point = layer_obs_points[layer_obs_points['name'] == obs_point]\n",
    "    plt.scatter(selected_obs_point['col'], selected_obs_point['row'], color='red')\n",
    "    \n",
    "    plt.show()\n",
    "\n",
    "# Create an interactive widget to select the observation point\n",
    "widgets.interact(plot_data, obs_point=dropdown)"
   ]
  },
  {
   "cell_type": "code",
   "execution_count": 5,
   "metadata": {},
   "outputs": [
    {
     "name": "stderr",
     "output_type": "stream",
     "text": [
      "<>:20: DeprecationWarning: invalid escape sequence \\s\n",
      "<>:20: DeprecationWarning: invalid escape sequence \\s\n",
      "C:\\Users\\sebas\\AppData\\Local\\Temp\\ipykernel_4244\\4155020184.py:20: DeprecationWarning: invalid escape sequence \\s\n",
      "  data = pd.read_csv(os.path.join(directory, filename), sep='\\s+', names=['obs_point', 'date', 'time', 'head'])\n"
     ]
    },
    {
     "data": {
      "application/vnd.jupyter.widget-view+json": {
       "model_id": "37aabc981adf4cbba1807381887ae6a7",
       "version_major": 2,
       "version_minor": 0
      },
      "text/plain": [
       "interactive(children=(Dropdown(description='Obs Point:', options=('MEL_1', 'MEL_2', 'MEL_3', 'MEL_4', 'MER_5',…"
      ]
     },
     "metadata": {},
     "output_type": "display_data"
    },
    {
     "data": {
      "text/plain": [
       "<function __main__.plot_both(obs_point)>"
      ]
     },
     "execution_count": 5,
     "metadata": {},
     "output_type": "execute_result"
    }
   ],
   "source": [
    "import ipywidgets as widgets\n",
    "from ipywidgets import interact, HBox\n",
    "import matplotlib.pyplot as plt\n",
    "import pandas as pd\n",
    "import os\n",
    "\n",
    "# Load observed and synthetic data\n",
    "observed_data = pd.read_csv('observed_data.csv')\n",
    "synthetic_data = pd.read_csv('synthetic_data.csv')\n",
    "\n",
    "# Get the observation points that are in either observed or synthetic data\n",
    "obs_points = set(observed_data['obs_point']).union(synthetic_data['obs_point'])\n",
    "\n",
    "# Load all .smp files from the directory\n",
    "directory = 'C:\\\\Users\\\\sebas\\\\Documents\\\\UGent\\\\Sem 3\\\\Thesis\\\\GondebeekModel\\\\Outputs'\n",
    "simulated_data = {}\n",
    "for filename in os.listdir(directory):\n",
    "    if filename.endswith('.smp'):\n",
    "        iteration = filename.split('_')[1].split('.')[0]\n",
    "        data = pd.read_csv(os.path.join(directory, filename), sep='\\s+', names=['obs_point', 'date', 'time', 'head'])\n",
    "        data = data[data['obs_point'].isin(obs_points)]\n",
    "        simulated_data[f'Simulated {iteration}'] = data\n",
    "\n",
    "# Get the groundwater flow model\n",
    "gwf = sim.get_model(model_name)\n",
    "\n",
    "# Get the hydraulic conductivity values\n",
    "hk = gwf.npf.k.array\n",
    "\n",
    "# Get the idomain values\n",
    "idomain = gwf.dis.idomain.array\n",
    "\n",
    "# Mask the hydraulic conductivity values with the idomain\n",
    "hk_masked = np.ma.masked_where(idomain == 0, hk)\n",
    "\n",
    "# Get unique hydraulic conductivity values and assign each a unique random color\n",
    "unique_hk = np.unique(hk_masked.compressed())\n",
    "colors = [np.random.rand(3,) for _ in range(len(unique_hk))]\n",
    "hk_color_dict = dict(zip(unique_hk, colors))\n",
    "\n",
    "# Read the observation points for hydraulic conductivity\n",
    "hk_obs_points = pd.read_csv(model_ws + '/bore_coord.dat', sep='\\t', header=None, names=['name', 'x', 'y', 'layer'])\n",
    "\n",
    "# Convert the x and y coordinates to row and column indices\n",
    "hk_obs_points['row'] = np.floor((gwf.modelgrid.extent[3] - hk_obs_points['y']) / gwf.modelgrid.delc[0]).astype(int)\n",
    "hk_obs_points['col'] = np.floor((hk_obs_points['x'] - gwf.modelgrid.extent[0]) / gwf.modelgrid.delr[0]).astype(int)\n",
    "\n",
    "obs_points = set(obs_point.upper() for obs_point in observed_data['obs_point']).union(obs_point.upper() for obs_point in synthetic_data['obs_point'])\n",
    "hk_obs_points['name'] = hk_obs_points['name'].str.upper()\n",
    "\n",
    "# Now perform the intersection\n",
    "common_obs_points = obs_points.intersection(set(hk_obs_points['name']))\n",
    "\n",
    "\n",
    "# Update the dropdown menu\n",
    "dropdown = widgets.Dropdown(\n",
    "    options=sorted(list(common_obs_points)),\n",
    "    description='Obs Point:',\n",
    ")\n",
    "\n",
    "# Define the plotting functions\n",
    "def plot_head_data(obs_point):\n",
    "    plt.clf()\n",
    "    # Plot the data for the selected obs_point\n",
    "    plt.figure(figsize=(10, 6))\n",
    "    \n",
    "    # Initialize min_head and max_head\n",
    "    min_head = float('inf')\n",
    "    max_head = float('-inf')\n",
    "        \n",
    "    # Plot simulated data\n",
    "    for label, data in simulated_data.items():\n",
    "        data_to_plot = data[data['obs_point'] == obs_point]\n",
    "        dates = pd.to_datetime(data_to_plot['date'], format='%d/%m/%Y').to_numpy()\n",
    "        plt.plot(dates, data_to_plot['head'].to_numpy(), label=label)\n",
    "        min_head = min(min_head, data_to_plot['head'].min())\n",
    "        max_head = max(max_head, data_to_plot['head'].max())\n",
    "        \n",
    "    # Plot and highlight observed data\n",
    "    data_to_plot = observed_data[observed_data['obs_point'] == obs_point]\n",
    "    dates = pd.to_datetime(data_to_plot['date'], format='mixed').to_numpy()\n",
    "    plt.plot(dates, data_to_plot['head'].to_numpy(), label='Observed', linestyle='--', color='blue')\n",
    "    plt.scatter(dates, data_to_plot['head'].to_numpy(), color='blue')\n",
    "    min_head = min(min_head, data_to_plot['head'].min())\n",
    "    max_head = max(max_head, data_to_plot['head'].max())\n",
    "    \n",
    "    # Plot and highlight synthetic data\n",
    "    data_to_plot = synthetic_data[synthetic_data['obs_point'] == obs_point]\n",
    "    dates = pd.to_datetime(data_to_plot['date'], format='mixed').to_numpy()\n",
    "    plt.plot(dates, data_to_plot['head'].to_numpy(), label='Synthetic', linestyle=':', color='orange')\n",
    "    plt.scatter(dates, data_to_plot['head'].to_numpy(), color='orange')\n",
    "    min_head = min(min_head, data_to_plot['head'].min())\n",
    "    max_head = max(max_head, data_to_plot['head'].max())\n",
    "\n",
    "    # Set the y-axis limits\n",
    "    plt.ylim(min_head * 0.8, max_head * 1.2)\n",
    "\n",
    "    plt.title(f'Head for Obs Point {obs_point}')\n",
    "    plt.xlabel('Date')\n",
    "    plt.ylabel('Head')\n",
    "    plt.legend()\n",
    "    plt.show()\n",
    "def plot_hk_data(obs_point):\n",
    "    # Clear the current figure\n",
    "    plt.clf()\n",
    "    plt.figure(figsize=(15, 10))\n",
    "    # Get the layer of the selected observation point\n",
    "    layer = hk_obs_points[hk_obs_points['name'] == obs_point]['layer'].values[0] - 1\n",
    "    # Create a dictionary where each unique hydraulic conductivity value is a key and the corresponding value is a list of coordinates where this hydraulic conductivity value occurs\n",
    "    hk_coords = {hk: [] for hk in unique_hk}\n",
    "    for j in range(hk_masked[layer].shape[0]):\n",
    "        for k in range(hk_masked[layer].shape[1]):\n",
    "            if idomain[layer, j, k] != 0:  # Only consider active cells\n",
    "                hk_coords[hk_masked[layer, j, k]].append((j, k))\n",
    "\n",
    "# For each unique hydraulic conductivity value, calculate the center of the corresponding coordinates and display the hydraulic conductivity value at this center\n",
    "    for hk, coords in hk_coords.items():\n",
    "        if coords:  # If the list of coordinates is not empty\n",
    "            center = np.mean(coords, axis=0).astype(int)  # Calculate the center of the coordinates\n",
    "            plt.text(center[1], center[0], f'{hk:.3f}', ha='center', va='center', color='black', bbox=dict(facecolor='white', alpha=0.5, edgecolor='white'))  # Use three significant digits\n",
    "            \n",
    "    # Plot the hydraulic conductivity of the layer\n",
    "    color_layer = np.ones((hk_masked[layer].shape[0], hk_masked[layer].shape[1], 3))  # Initialize the color_layer array with ones\n",
    "    for j in range(hk_masked[layer].shape[0]):\n",
    "        for k in range(hk_masked[layer].shape[1]):\n",
    "            if idomain[layer, j, k] != 0:  # Only consider active cells\n",
    "                color_layer[j, k] = hk_color_dict[hk_masked[layer, j, k]]\n",
    "    plt.imshow(color_layer)\n",
    "    \n",
    "    plt.title(f'Hydraulic Conductivity Layer {layer+1} [m/d]')\n",
    "    \n",
    "    # Plot the observation points on the current layer\n",
    "    layer_obs_points = hk_obs_points[(hk_obs_points['layer'] == layer+1) & (hk_obs_points['name'].isin(common_obs_points))]\n",
    "    plt.scatter(layer_obs_points['col'], layer_obs_points['row'], color='blue')\n",
    "    \n",
    "    # Highlight the selected observation point in red\n",
    "    selected_obs_point = layer_obs_points[layer_obs_points['name'] == obs_point]\n",
    "    plt.scatter(selected_obs_point['col'], selected_obs_point['row'], color='red')\n",
    "    \n",
    "    plt.show()\n",
    "\n",
    "# Define a function to plot both datasets side by side\n",
    "def plot_both(obs_point):\n",
    "    plt.subplot(1, 2, 1)\n",
    "    plot_head_data(obs_point)\n",
    "    plt.subplot(1, 2, 2)\n",
    "    plot_hk_data(obs_point)\n",
    "    plt.show()\n",
    "\n",
    "# Create an interactive plot with the dropdown widget\n",
    "interact(plot_both, obs_point=dropdown)\n"
   ]
  }
 ],
 "metadata": {
  "kernelspec": {
   "display_name": "BastianMod",
   "language": "python",
   "name": "bastianmod"
  },
  "language_info": {
   "codemirror_mode": {
    "name": "ipython",
    "version": 3
   },
   "file_extension": ".py",
   "mimetype": "text/x-python",
   "name": "python",
   "nbconvert_exporter": "python",
   "pygments_lexer": "ipython3",
   "version": "3.8.8"
  }
 },
 "nbformat": 4,
 "nbformat_minor": 2
}
