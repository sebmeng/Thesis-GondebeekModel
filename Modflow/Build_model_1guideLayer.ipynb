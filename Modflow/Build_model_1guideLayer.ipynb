{
 "cells": [
  {
   "cell_type": "code",
   "execution_count": 133,
   "metadata": {},
   "outputs": [],
   "source": [
    "import os\n",
    "import numpy as np\n",
    "from osgeo import gdal\n",
    "import flopy\n",
    "from scipy.ndimage import generic_filter\n",
    "import matplotlib.pyplot as plt\n",
    "from flopy.mf6.utils.reference import SpatialReference\n",
    "import shapefile as shp\n",
    "from flopy.utils import Raster\n",
    "import flopy.utils.binaryfile as bf\n",
    "import time\n",
    "from scipy import interpolate\n",
    "import scipy\n",
    "from matplotlib import colors\n",
    "import vtk\n",
    "from flopy.export import vtk\n",
    "\n"
   ]
  },
  {
   "attachments": {},
   "cell_type": "markdown",
   "metadata": {},
   "source": [
    "Customized functions are integrated in the mod_utils.py library"
   ]
  },
  {
   "cell_type": "code",
   "execution_count": 134,
   "metadata": {},
   "outputs": [
    {
     "data": {
      "text/plain": [
       "<module 'mod_utils' from 'c:\\\\Users\\\\sebas\\\\Documents\\\\UGent\\\\Sem 3\\\\Thesis\\\\Groundwater model\\\\Modflow\\\\mod_utils.py'>"
      ]
     },
     "execution_count": 134,
     "metadata": {},
     "output_type": "execute_result"
    }
   ],
   "source": [
    "import mod_utils\n",
    "import importlib\n",
    "importlib.reload(mod_utils)"
   ]
  },
  {
   "attachments": {},
   "cell_type": "markdown",
   "metadata": {},
   "source": [
    "Geometry input data"
   ]
  },
  {
   "cell_type": "code",
   "execution_count": 135,
   "metadata": {},
   "outputs": [],
   "source": [
    "# Geometry\n",
    "geometry_path = \"C:\\\\Users\\\\sebas\\\\Documents\\\\UGent\\\\Sem 3\\\\Thesis\\\\Groundwater model\\\\Inputs\\\\Marylidia_data\\\\DEM\\\\DEM\"\n",
    "shp_Gondebeek_path = os.path.join(geometry_path,\"Catchment_Gondebeek_v2.shp\")\n",
    "raster_DEM_path= os.path.join(geometry_path,'DEM_Gondebeek.asc')\n",
    "raster_A100t_path = os.path.join(geometry_path,'A0100_t.asc')\n",
    "raster_Paniseliaan_Brusseliaan_Aquifer_path=os.path.join(geometry_path,'A0600_Ledo_Paniseliaan_Brusseliaan_Aquifer.asc')\n",
    "raster_Paniseliaan_Aquitard_path= os.path.join(geometry_path,'A0700_Paniseliaan_Aquitard.asc')    \n",
    "raster_eperiaan_Aquifer_path= os.path.join(geometry_path,'A0800_Leperiaan_Aquifer.asc')    "
   ]
  },
  {
   "attachments": {},
   "cell_type": "markdown",
   "metadata": {},
   "source": [
    "The main working directory and model directory are defined"
   ]
  },
  {
   "cell_type": "code",
   "execution_count": 136,
   "metadata": {},
   "outputs": [],
   "source": [
    "modelname = 'Gondebeek'\n",
    "model_dir = \"C:\\\\Users\\\\sebas\\\\Documents\\\\UGent\\\\Sem 3\\\\Thesis\\\\Groundwater model\\\\Modflow\""
   ]
  },
  {
   "attachments": {},
   "cell_type": "markdown",
   "metadata": {},
   "source": [
    "General geometrical aspects of the model are defined"
   ]
  },
  {
   "cell_type": "code",
   "execution_count": 137,
   "metadata": {},
   "outputs": [],
   "source": [
    "# Load shape\n",
    "shp_obj = shp.Reader(shp_Gondebeek_path)\n",
    "\n",
    "# Read shape\n",
    "feature = shp_obj.shapeRecords()[0]\n",
    "\n",
    "# Domain extension\n",
    "bbox = feature.shape.bbox\n",
    "Lx = -(bbox[0]-bbox[2]) #m\n",
    "Ly = -(bbox[1]-bbox[3]) #m\n",
    "\n",
    "# Horizontal discretization\n",
    "delr = 100\n",
    "delc = 100\n",
    "\n",
    "# Number of model rows, and cols\n",
    "nrow = Ly / delr\n",
    "ncol = Lx / delc\n",
    "\n",
    "# Actualizar nrow y ncol\n",
    "nrow = int(np.round(nrow+.5))\n",
    "ncol = int(np.round(ncol+.5))\n",
    "\n",
    "# Actualizar Lx y Ly\n",
    "Ly = nrow*delr\n",
    "Lx = ncol*delc\n",
    "\n",
    "# Origins round to left and up\n",
    "xul = int(bbox[0]//100*100)\n",
    "yul = int((bbox[3])//100*100+100)\n",
    "\n",
    "# Number of layers between guide layers\n",
    "gls_lays = np.array([1,1])\n",
    "\n",
    "# Total N of layers are calculated\n",
    "nlay = gls_lays.sum()"
   ]
  },
  {
   "cell_type": "markdown",
   "metadata": {},
   "source": [
    "Guide layer elevations are loaded and interpolated to the model grid, including top later DEM"
   ]
  },
  {
   "attachments": {},
   "cell_type": "markdown",
   "metadata": {},
   "source": [
    " ```interpolate_to_grid```, is designed to interpolate data from a set of files to a model grid using the natural neighbor method:\n",
    "\n",
    "1. **Function usage:**\n",
    "    `interpolate_to_grid(file_list, xul, yul, nrow, ncol, delr, delc, base_layer=None, skiprows=None)`\n",
    "\n",
    "2. **Parameters:**\n",
    "    - `file_list`: A list of input files.\n",
    "    - `xul`, `yul`: The upper left coordinates of the model grid.\n",
    "    - `nrow`, `ncol`: The number of rows and columns in the model grid.\n",
    "    - `delr`, `delc`: The row and column spacing in the model grid.\n",
    "    - `base_layer`: An optional layer that defines the base of the model.\n",
    "    - `skiprows`: The number of rows to skip in the file.\n",
    "\n",
    "3. **Process:**\n",
    "    - The function first generates a model grid of (x, y) coordinates.\n",
    "    - It then initializes an array to hold the interpolated data.\n",
    "    - If a base layer is provided, it is added to the interpolated array.\n",
    "    - The function then loops over each file in the file list.\n",
    "        - It opens each file and reads its lines.\n",
    "        - It gathers the characteristics of the asc file from the first 6 lines.\n",
    "        - It loads the data from the asc file into a grid.\n",
    "        - It generates a grid of (x, y) coordinates for the asc file.\n",
    "        - It uses the `griddata` function from the `scipy.interpolate` module to interpolate the data from the asc grid to the model grid.\n",
    "        - It then loops over each cell in the model grid, checking if the interpolated data is less than or equal to 0. If it is, it sets the cell value to the value from the previous layer minus 1. Otherwise, it sets the cell value to the interpolated data.\n",
    "\n",
    "4. **Return:**\n",
    "    - The function returns a 3D array with the interpolated data."
   ]
  },
  {
   "cell_type": "code",
   "execution_count": 138,
   "metadata": {},
   "outputs": [],
   "source": [
    "file_list = [raster_DEM_path,raster_eperiaan_Aquifer_path]\n",
    "\n",
    "interp_elevs = mod_utils.interpolate_to_grid(file_list,xul,yul,nrow,ncol,delr,delc,base_layer=100,skiprows=6)"
   ]
  },
  {
   "attachments": {},
   "cell_type": "markdown",
   "metadata": {},
   "source": [
    "Guide layer elevations are corrected so they do not cross between each other"
   ]
  },
  {
   "cell_type": "markdown",
   "metadata": {},
   "source": [
    "1. **Function usage:**\n",
    "    `check_layer_elevs(elev_array, threshold=None)`\n",
    "\n",
    "2. **Parameters:**\n",
    "    - `elev_array`: A 3D array containing the layer elevation information.\n",
    "    - `threshold`: An optional parameter that specifies the elevation difference to be assigned if an overlapping layer is encountered. The default value is 0.1.\n",
    "\n",
    "3. **Process:**\n",
    "    - The function first checks if a threshold is provided. If not, it sets the threshold to 0.1.\n",
    "    - It then gets the dimensions of the 3D array.\n",
    "    - The function loops over each layer in the array (except the first one), and for each cell in each layer, it calculates the difference in elevation between the current layer and the one above it.\n",
    "    - If the difference is less than or equal to 0 (indicating an overlap), it adjusts the elevation of the current cell to be lower than the cell above it by the specified threshold.\n",
    "\n",
    "4. **Return:**\n",
    "    - The function returns the adjusted 3D array."
   ]
  },
  {
   "cell_type": "code",
   "execution_count": 139,
   "metadata": {},
   "outputs": [],
   "source": [
    "interp_elevs = mod_utils.check_layer_elevs(interp_elevs,0.5)"
   ]
  },
  {
   "cell_type": "markdown",
   "metadata": {},
   "source": [
    "Botm and topm array are generated"
   ]
  },
  {
   "cell_type": "code",
   "execution_count": 140,
   "metadata": {},
   "outputs": [],
   "source": [
    "botm = np.zeros((nlay,nrow,ncol),dtype=float)\n",
    "botm = mod_utils.fill_botm_array(botm,interp_elevs,gls_lays)\n",
    "topm = mod_utils.fill_topm_array(botm,interp_elevs,gls_lays)"
   ]
  },
  {
   "attachments": {},
   "cell_type": "markdown",
   "metadata": {},
   "source": [
    "Temporal discretization"
   ]
  },
  {
   "cell_type": "code",
   "execution_count": 141,
   "metadata": {},
   "outputs": [],
   "source": [
    "# Fecha inicial y final\n",
    "year_0 = 2015; month_0 = 1; day_0 = 1 \n",
    "year_F = 2016; month_F = 1; day_F = 1 \n",
    "\n",
    "SP = mod_utils.Constru_SP(year_0, month_0, day_0, year_F, month_F, day_F, scale='d', n_scale=1)\n",
    "perlen, fecha_inicialSP, fecha_finalSP, nstp, tsmult, steady = SP\n",
    "nper = len(perlen)"
   ]
  },
  {
   "cell_type": "markdown",
   "metadata": {},
   "source": [
    "Basic packages are created"
   ]
  },
  {
   "cell_type": "code",
   "execution_count": null,
   "metadata": {},
   "outputs": [],
   "source": []
  },
  {
   "cell_type": "code",
   "execution_count": 142,
   "metadata": {},
   "outputs": [
    {
     "name": "stdout",
     "output_type": "stream",
     "text": [
      "\n",
      "DIS PACKAGE DATA VALIDATION:\n",
      "  10965 Errors:\n",
      "    4347 instances of thin cells (less than checker threshold of 1.0)\n",
      "    6618 instances of zero or negative thickness\n",
      "\n",
      "  Checks that passed:\n",
      "    nan values in top array\n",
      "    nan values in bottom array\n",
      "\n"
     ]
    },
    {
     "data": {
      "text/plain": [
       "<flopy.utils.check.check at 0x24d0f658ca0>"
      ]
     },
     "execution_count": 142,
     "metadata": {},
     "output_type": "execute_result"
    }
   ],
   "source": [
    "mf2005_exe = os.path.join('MODFLOW-NWT.exe')  # Path to MODFLOW-2005 NWT executable\n",
    "\n",
    "sim = flopy.modflow.Modflow(modelname=modelname, model_ws=model_dir,\n",
    "                          version='mf2005', exe_name=mf2005_exe,\n",
    "                          structured=True)\n",
    "                          \n",
    "                          \n",
    "dis = flopy.modflow.ModflowDis(sim, nlay=nlay, nrow=nrow, ncol=ncol, delr=delr,\n",
    "                               delc=delc, top=interp_elevs[0], botm=botm,\n",
    "                              xul=xul, yul=yul, nper=nper,steady=steady,\n",
    "                               perlen=perlen,nstp=nstp,tsmult=tsmult)\n",
    "\n",
    "lpf = flopy.modflow.ModflowLpf(sim, ipakcb=50, hk=500, laytyp=4,layvka=1)\n",
    "# Write BAS package\n",
    "bas = flopy.modflow.ModflowBas(sim, strt=interp_elevs[0])\n",
    "bas.write_file()\n",
    "\n",
    "\n",
    "\n",
    "\n",
    "# #read bottom array\n",
    "# botm_array = dis.botm.array\n",
    "\n",
    "# # Create a boolean mask where noflow is zero\n",
    "# mask_noflow_zero = noflow[0,:,:] == 0\n",
    "# mask_noflow_zero = mask_noflow_zero.reshape(botm_array.shape)\n",
    "\n",
    "\n",
    "# # Use the mask to index top_array\n",
    "# botm_array_filtered = botm_array[mask_noflow_zero]\n",
    "\n",
    "\n",
    "# # Convert the numpy array back to a Util3d object\n",
    "# dis.botm = flopy.utils.Util3d(sim, botm_array_filtered.shape, np.float32, botm_array_filtered, name='botm', locat=dis.unit_number[0])\n",
    "# # Write the modified DIS package back to the model\n",
    "\n",
    "# # Convert the Util2d object to a numpy array\n",
    "# top_array = dis.top.array\n",
    "\n",
    "# # Change negative top elevations to zero\n",
    "# top_array[noflow[0,:,:] == 0] = 0\n",
    "\n",
    "# # Convert the numpy array back to a Util2d object\n",
    "# dis.top = flopy.utils.Util2d(sim, top_array.shape, np.float32, top_array, name='top', locat=dis.unit_number[0])\n",
    "\n",
    "\n",
    "\n",
    "sim.write_input()\n",
    "dis.check()"
   ]
  },
  {
   "cell_type": "code",
   "execution_count": 143,
   "metadata": {},
   "outputs": [
    {
     "name": "stderr",
     "output_type": "stream",
     "text": [
      "c:\\Users\\sebas\\anaconda3\\envs\\BastianMod\\lib\\site-packages\\flopy\\mbase.py:658: UserWarning: Unit 13 of package BAS6 already in use.\n",
      "  warn(\n",
      "c:\\Users\\sebas\\anaconda3\\envs\\BastianMod\\lib\\site-packages\\flopy\\mbase.py:667: UserWarning: Two packages of the same type, Replacing existing 'BAS6' package.\n",
      "  warn(\n"
     ]
    },
    {
     "name": "stdout",
     "output_type": "stream",
     "text": [
      "\n",
      "DIS PACKAGE DATA VALIDATION:\n",
      "  4324 Errors:\n",
      "    4322 instances of thin cells (less than checker threshold of 1.0)\n",
      "    2 instances of zero or negative thickness\n",
      "\n",
      "  Checks that passed:\n",
      "    nan values in top array\n",
      "    nan values in bottom array\n",
      "\n"
     ]
    },
    {
     "data": {
      "text/plain": [
       "<flopy.utils.check.check at 0x24d0ddc8d60>"
      ]
     },
     "execution_count": 143,
     "metadata": {},
     "output_type": "execute_result"
    }
   ],
   "source": [
    "noflow = mod_utils.active_cell(sim,shp_obj)\n",
    "# Assuming 'noflow' is your IBOUND array\n",
    "active = np.where(noflow != 0, 1, 0)\n",
    "# Assuming 'ibound' is your IBOUND array and 'active' is your array of active cells\n",
    "for i in range(nrow):\n",
    "    for j in range(ncol):\n",
    "        # Check if the cell is on the boundary\n",
    "        if i == 0 or i == nrow - 1 or j == 0 or j == ncol - 1:\n",
    "            # Set the IBOUND value to 0 for boundary cells\n",
    "            noflow[:, i, j] = 0\n",
    "        else:\n",
    "            # For non-boundary cells, use the active cell value\n",
    "            noflow[:, i, j] = active[:, i, j]\n",
    "\n",
    "bas = flopy.modflow.ModflowBas(sim, strt=interp_elevs[0],ibound=noflow)\n",
    "\n",
    "bas.write_file()\n",
    "\n",
    "sim.write_input()\n",
    "dis.check()"
   ]
  },
  {
   "cell_type": "code",
   "execution_count": 149,
   "metadata": {},
   "outputs": [
    {
     "data": {
      "image/png": "[encoded data removed]",
      "text/plain": [
       "<Figure size 864x864 with 2 Axes>"
      ]
     },
     "metadata": {
      "needs_background": "light"
     },
     "output_type": "display_data"
    }
   ],
   "source": [
    "\n",
    "# Get the top layer of the model\n",
    "top_layer = sim.dis.top.array\n",
    "\n",
    "\n",
    "# Define the minimum and maximum values for the colorbar\n",
    "vmin, vmax = 0, top_layer.max()\n",
    "\n",
    "# Create a figure\n",
    "fig = plt.figure(figsize=(12, 12))\n",
    "ax = fig.add_subplot(1, 1, 1, aspect=\"equal\")\n",
    "\n",
    "# Create a map of the model\n",
    "modelmap = flopy.plot.PlotMapView(model=sim)\n",
    "\n",
    "# Plot the top layer of the model\n",
    "quadmesh = modelmap.plot_array(top_layer, vmin=vmin, vmax=vmax)\n",
    "\n",
    "# Plot the grid and inactive cells\n",
    "#linecollection = modelmap.plot_grid()\n",
    "quadmesh = modelmap.plot_ibound(ibound=noflow, color_noflow='cyan')\n",
    "\n",
    "# Add a colorbar with a label\n",
    "cbar = plt.colorbar(quadmesh, shrink=0.7)\n",
    "cbar.set_label('Elevation (m)')\n",
    "\n",
    "# Add labels to the x and y axes\n",
    "plt.xlabel('X Coordinate (m)')\n",
    "plt.ylabel('Y Coordinate (m)')\n",
    "\n",
    "# Add a title\n",
    "plt.title(\"My Model Grid\")\n",
    "\n",
    "# Save the plot as a PNG file\n",
    "plt.savefig('my_model_grid.png')\n",
    "\n",
    "# Show the plot\n",
    "plt.show()\n"
   ]
  },
  {
   "cell_type": "code",
   "execution_count": null,
   "metadata": {},
   "outputs": [],
   "source": []
  },
  {
   "attachments": {},
   "cell_type": "markdown",
   "metadata": {},
   "source": [
    "Export grid to VTK"
   ]
  },
  {
   "cell_type": "code",
   "execution_count": 145,
   "metadata": {},
   "outputs": [],
   "source": [
    "\n",
    "# Get the modelgrid from the model\n",
    "modelgrid = sim.modelgrid\n",
    "# Create a vtk object\n",
    "vtkobj = flopy.export.vtk.Vtk(sim, vertical_exageration=10,binary=False)\n",
    "# Add the bottom elevation of each layer to the VTK object\n",
    "vtkobj.add_array(sim.dis.botm.array, \"botm\")\n",
    "\n",
    "# Assuming 'hk' is your hydraulic conductivity array\n",
    "hk = sim.lpf.hk.array\n",
    "\n",
    "# Add the hydraulic conductivity to the VTK object\n",
    "vtkobj.add_array(hk, \"HydraulicConductivity\")\n",
    "\n",
    "# Add the noflow cells to the VTK object\n",
    "vtkobj.add_array(noflow, \"NoFlow\")\n",
    "\n",
    "# Write the vtk object to file\n",
    "vtkobj.write(\"model_1layerguide.vtk\")"
   ]
  }
 ],
 "metadata": {
  "kernelspec": {
   "display_name": "BastianMod",
   "language": "python",
   "name": "python3"
  },
  "language_info": {
   "codemirror_mode": {
    "name": "ipython",
    "version": 3
   },
   "file_extension": ".py",
   "mimetype": "text/x-python",
   "name": "python",
   "nbconvert_exporter": "python",
   "pygments_lexer": "ipython3",
   "version": "3.8.8"
  },
  "orig_nbformat": 4
 },
 "nbformat": 4,
 "nbformat_minor": 2
}
